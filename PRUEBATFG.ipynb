{
  "nbformat": 4,
  "nbformat_minor": 0,
  "metadata": {
    "accelerator": "GPU",
    "colab": {
      "provenance": [],
      "include_colab_link": true
    },
    "kernelspec": {
      "display_name": "Python 3",
      "name": "python3"
    },
    "widgets": {
      "application/vnd.jupyter.widget-state+json": {
        "3ac4a2961ebf44468f7f94e8cf20822c": {
          "model_module": "@jupyter-widgets/controls",
          "model_name": "HBoxModel",
          "model_module_version": "1.5.0",
          "state": {
            "_dom_classes": [],
            "_model_module": "@jupyter-widgets/controls",
            "_model_module_version": "1.5.0",
            "_model_name": "HBoxModel",
            "_view_count": null,
            "_view_module": "@jupyter-widgets/controls",
            "_view_module_version": "1.5.0",
            "_view_name": "HBoxView",
            "box_style": "",
            "children": [
              "IPY_MODEL_a8d373d847974611a206142121ed6502",
              "IPY_MODEL_b0eab98841c343539498087a3ee36520",
              "IPY_MODEL_559a3630a6fe44b6ad306bab0d6ae7d7"
            ],
            "layout": "IPY_MODEL_816a21c4171144548b2907dc5b32a81a"
          }
        },
        "a8d373d847974611a206142121ed6502": {
          "model_module": "@jupyter-widgets/controls",
          "model_name": "HTMLModel",
          "model_module_version": "1.5.0",
          "state": {
            "_dom_classes": [],
            "_model_module": "@jupyter-widgets/controls",
            "_model_module_version": "1.5.0",
            "_model_name": "HTMLModel",
            "_view_count": null,
            "_view_module": "@jupyter-widgets/controls",
            "_view_module_version": "1.5.0",
            "_view_name": "HTMLView",
            "description": "",
            "description_tooltip": null,
            "layout": "IPY_MODEL_58e2bf26d8404c15bb93ccbc56ca5f2d",
            "placeholder": "​",
            "style": "IPY_MODEL_ba2b89f62df24c8c8e84cec5594bce67",
            "value": "Downloading: 100%"
          }
        },
        "b0eab98841c343539498087a3ee36520": {
          "model_module": "@jupyter-widgets/controls",
          "model_name": "FloatProgressModel",
          "model_module_version": "1.5.0",
          "state": {
            "_dom_classes": [],
            "_model_module": "@jupyter-widgets/controls",
            "_model_module_version": "1.5.0",
            "_model_name": "FloatProgressModel",
            "_view_count": null,
            "_view_module": "@jupyter-widgets/controls",
            "_view_module_version": "1.5.0",
            "_view_name": "ProgressView",
            "bar_style": "success",
            "description": "",
            "description_tooltip": null,
            "layout": "IPY_MODEL_7db2a343ee4f48c7ba8d93f55fc9e70a",
            "max": 5069051,
            "min": 0,
            "orientation": "horizontal",
            "style": "IPY_MODEL_414c44fb55b8405fa3c541e910dc7b5b",
            "value": 5069051
          }
        },
        "559a3630a6fe44b6ad306bab0d6ae7d7": {
          "model_module": "@jupyter-widgets/controls",
          "model_name": "HTMLModel",
          "model_module_version": "1.5.0",
          "state": {
            "_dom_classes": [],
            "_model_module": "@jupyter-widgets/controls",
            "_model_module_version": "1.5.0",
            "_model_name": "HTMLModel",
            "_view_count": null,
            "_view_module": "@jupyter-widgets/controls",
            "_view_module_version": "1.5.0",
            "_view_name": "HTMLView",
            "description": "",
            "description_tooltip": null,
            "layout": "IPY_MODEL_501806f654dc4c4dbf9804c16d522b46",
            "placeholder": "​",
            "style": "IPY_MODEL_368f75738bb84e5cba60ce5e988283bd",
            "value": " 5.07M/5.07M [00:00&lt;00:00, 10.7MB/s]"
          }
        },
        "816a21c4171144548b2907dc5b32a81a": {
          "model_module": "@jupyter-widgets/base",
          "model_name": "LayoutModel",
          "model_module_version": "1.2.0",
          "state": {
            "_model_module": "@jupyter-widgets/base",
            "_model_module_version": "1.2.0",
            "_model_name": "LayoutModel",
            "_view_count": null,
            "_view_module": "@jupyter-widgets/base",
            "_view_module_version": "1.2.0",
            "_view_name": "LayoutView",
            "align_content": null,
            "align_items": null,
            "align_self": null,
            "border": null,
            "bottom": null,
            "display": null,
            "flex": null,
            "flex_flow": null,
            "grid_area": null,
            "grid_auto_columns": null,
            "grid_auto_flow": null,
            "grid_auto_rows": null,
            "grid_column": null,
            "grid_gap": null,
            "grid_row": null,
            "grid_template_areas": null,
            "grid_template_columns": null,
            "grid_template_rows": null,
            "height": null,
            "justify_content": null,
            "justify_items": null,
            "left": null,
            "margin": null,
            "max_height": null,
            "max_width": null,
            "min_height": null,
            "min_width": null,
            "object_fit": null,
            "object_position": null,
            "order": null,
            "overflow": null,
            "overflow_x": null,
            "overflow_y": null,
            "padding": null,
            "right": null,
            "top": null,
            "visibility": null,
            "width": null
          }
        },
        "58e2bf26d8404c15bb93ccbc56ca5f2d": {
          "model_module": "@jupyter-widgets/base",
          "model_name": "LayoutModel",
          "model_module_version": "1.2.0",
          "state": {
            "_model_module": "@jupyter-widgets/base",
            "_model_module_version": "1.2.0",
            "_model_name": "LayoutModel",
            "_view_count": null,
            "_view_module": "@jupyter-widgets/base",
            "_view_module_version": "1.2.0",
            "_view_name": "LayoutView",
            "align_content": null,
            "align_items": null,
            "align_self": null,
            "border": null,
            "bottom": null,
            "display": null,
            "flex": null,
            "flex_flow": null,
            "grid_area": null,
            "grid_auto_columns": null,
            "grid_auto_flow": null,
            "grid_auto_rows": null,
            "grid_column": null,
            "grid_gap": null,
            "grid_row": null,
            "grid_template_areas": null,
            "grid_template_columns": null,
            "grid_template_rows": null,
            "height": null,
            "justify_content": null,
            "justify_items": null,
            "left": null,
            "margin": null,
            "max_height": null,
            "max_width": null,
            "min_height": null,
            "min_width": null,
            "object_fit": null,
            "object_position": null,
            "order": null,
            "overflow": null,
            "overflow_x": null,
            "overflow_y": null,
            "padding": null,
            "right": null,
            "top": null,
            "visibility": null,
            "width": null
          }
        },
        "ba2b89f62df24c8c8e84cec5594bce67": {
          "model_module": "@jupyter-widgets/controls",
          "model_name": "DescriptionStyleModel",
          "model_module_version": "1.5.0",
          "state": {
            "_model_module": "@jupyter-widgets/controls",
            "_model_module_version": "1.5.0",
            "_model_name": "DescriptionStyleModel",
            "_view_count": null,
            "_view_module": "@jupyter-widgets/base",
            "_view_module_version": "1.2.0",
            "_view_name": "StyleView",
            "description_width": ""
          }
        },
        "7db2a343ee4f48c7ba8d93f55fc9e70a": {
          "model_module": "@jupyter-widgets/base",
          "model_name": "LayoutModel",
          "model_module_version": "1.2.0",
          "state": {
            "_model_module": "@jupyter-widgets/base",
            "_model_module_version": "1.2.0",
            "_model_name": "LayoutModel",
            "_view_count": null,
            "_view_module": "@jupyter-widgets/base",
            "_view_module_version": "1.2.0",
            "_view_name": "LayoutView",
            "align_content": null,
            "align_items": null,
            "align_self": null,
            "border": null,
            "bottom": null,
            "display": null,
            "flex": null,
            "flex_flow": null,
            "grid_area": null,
            "grid_auto_columns": null,
            "grid_auto_flow": null,
            "grid_auto_rows": null,
            "grid_column": null,
            "grid_gap": null,
            "grid_row": null,
            "grid_template_areas": null,
            "grid_template_columns": null,
            "grid_template_rows": null,
            "height": null,
            "justify_content": null,
            "justify_items": null,
            "left": null,
            "margin": null,
            "max_height": null,
            "max_width": null,
            "min_height": null,
            "min_width": null,
            "object_fit": null,
            "object_position": null,
            "order": null,
            "overflow": null,
            "overflow_x": null,
            "overflow_y": null,
            "padding": null,
            "right": null,
            "top": null,
            "visibility": null,
            "width": null
          }
        },
        "414c44fb55b8405fa3c541e910dc7b5b": {
          "model_module": "@jupyter-widgets/controls",
          "model_name": "ProgressStyleModel",
          "model_module_version": "1.5.0",
          "state": {
            "_model_module": "@jupyter-widgets/controls",
            "_model_module_version": "1.5.0",
            "_model_name": "ProgressStyleModel",
            "_view_count": null,
            "_view_module": "@jupyter-widgets/base",
            "_view_module_version": "1.2.0",
            "_view_name": "StyleView",
            "bar_color": null,
            "description_width": ""
          }
        },
        "501806f654dc4c4dbf9804c16d522b46": {
          "model_module": "@jupyter-widgets/base",
          "model_name": "LayoutModel",
          "model_module_version": "1.2.0",
          "state": {
            "_model_module": "@jupyter-widgets/base",
            "_model_module_version": "1.2.0",
            "_model_name": "LayoutModel",
            "_view_count": null,
            "_view_module": "@jupyter-widgets/base",
            "_view_module_version": "1.2.0",
            "_view_name": "LayoutView",
            "align_content": null,
            "align_items": null,
            "align_self": null,
            "border": null,
            "bottom": null,
            "display": null,
            "flex": null,
            "flex_flow": null,
            "grid_area": null,
            "grid_auto_columns": null,
            "grid_auto_flow": null,
            "grid_auto_rows": null,
            "grid_column": null,
            "grid_gap": null,
            "grid_row": null,
            "grid_template_areas": null,
            "grid_template_columns": null,
            "grid_template_rows": null,
            "height": null,
            "justify_content": null,
            "justify_items": null,
            "left": null,
            "margin": null,
            "max_height": null,
            "max_width": null,
            "min_height": null,
            "min_width": null,
            "object_fit": null,
            "object_position": null,
            "order": null,
            "overflow": null,
            "overflow_x": null,
            "overflow_y": null,
            "padding": null,
            "right": null,
            "top": null,
            "visibility": null,
            "width": null
          }
        },
        "368f75738bb84e5cba60ce5e988283bd": {
          "model_module": "@jupyter-widgets/controls",
          "model_name": "DescriptionStyleModel",
          "model_module_version": "1.5.0",
          "state": {
            "_model_module": "@jupyter-widgets/controls",
            "_model_module_version": "1.5.0",
            "_model_name": "DescriptionStyleModel",
            "_view_count": null,
            "_view_module": "@jupyter-widgets/base",
            "_view_module_version": "1.2.0",
            "_view_name": "StyleView",
            "description_width": ""
          }
        },
        "142bed2beded45f48b8f2115ef3413bc": {
          "model_module": "@jupyter-widgets/controls",
          "model_name": "HBoxModel",
          "model_module_version": "1.5.0",
          "state": {
            "_dom_classes": [],
            "_model_module": "@jupyter-widgets/controls",
            "_model_module_version": "1.5.0",
            "_model_name": "HBoxModel",
            "_view_count": null,
            "_view_module": "@jupyter-widgets/controls",
            "_view_module_version": "1.5.0",
            "_view_name": "HBoxView",
            "box_style": "",
            "children": [
              "IPY_MODEL_e765268337c24805b417cdb2b422dfa4",
              "IPY_MODEL_9b520282c4044d26971e586f773a019f",
              "IPY_MODEL_2460df041d64463c965009bfb1f3b62e"
            ],
            "layout": "IPY_MODEL_8cf5a73dccad427c8566e6e60b3e348a"
          }
        },
        "e765268337c24805b417cdb2b422dfa4": {
          "model_module": "@jupyter-widgets/controls",
          "model_name": "HTMLModel",
          "model_module_version": "1.5.0",
          "state": {
            "_dom_classes": [],
            "_model_module": "@jupyter-widgets/controls",
            "_model_module_version": "1.5.0",
            "_model_name": "HTMLModel",
            "_view_count": null,
            "_view_module": "@jupyter-widgets/controls",
            "_view_module_version": "1.5.0",
            "_view_name": "HTMLView",
            "description": "",
            "description_tooltip": null,
            "layout": "IPY_MODEL_ca0d5df3d0f0455fa37f9c74b4dc8b73",
            "placeholder": "​",
            "style": "IPY_MODEL_88f1e3a171e247fca80d86ca8001a905",
            "value": "Downloading: 100%"
          }
        },
        "9b520282c4044d26971e586f773a019f": {
          "model_module": "@jupyter-widgets/controls",
          "model_name": "FloatProgressModel",
          "model_module_version": "1.5.0",
          "state": {
            "_dom_classes": [],
            "_model_module": "@jupyter-widgets/controls",
            "_model_module_version": "1.5.0",
            "_model_name": "FloatProgressModel",
            "_view_count": null,
            "_view_module": "@jupyter-widgets/controls",
            "_view_module_version": "1.5.0",
            "_view_name": "ProgressView",
            "bar_style": "success",
            "description": "",
            "description_tooltip": null,
            "layout": "IPY_MODEL_346d2e2bb8514d0f93c83dba8ecfe5f2",
            "max": 615,
            "min": 0,
            "orientation": "horizontal",
            "style": "IPY_MODEL_fe3c6d59c0b64235b434eabff3e171e9",
            "value": 615
          }
        },
        "2460df041d64463c965009bfb1f3b62e": {
          "model_module": "@jupyter-widgets/controls",
          "model_name": "HTMLModel",
          "model_module_version": "1.5.0",
          "state": {
            "_dom_classes": [],
            "_model_module": "@jupyter-widgets/controls",
            "_model_module_version": "1.5.0",
            "_model_name": "HTMLModel",
            "_view_count": null,
            "_view_module": "@jupyter-widgets/controls",
            "_view_module_version": "1.5.0",
            "_view_name": "HTMLView",
            "description": "",
            "description_tooltip": null,
            "layout": "IPY_MODEL_36b79c56c5cf4f78b056ca681172f8e1",
            "placeholder": "​",
            "style": "IPY_MODEL_5b38d6b2ae2e487a94d171d587abe6db",
            "value": " 615/615 [00:00&lt;00:00, 26.6kB/s]"
          }
        },
        "8cf5a73dccad427c8566e6e60b3e348a": {
          "model_module": "@jupyter-widgets/base",
          "model_name": "LayoutModel",
          "model_module_version": "1.2.0",
          "state": {
            "_model_module": "@jupyter-widgets/base",
            "_model_module_version": "1.2.0",
            "_model_name": "LayoutModel",
            "_view_count": null,
            "_view_module": "@jupyter-widgets/base",
            "_view_module_version": "1.2.0",
            "_view_name": "LayoutView",
            "align_content": null,
            "align_items": null,
            "align_self": null,
            "border": null,
            "bottom": null,
            "display": null,
            "flex": null,
            "flex_flow": null,
            "grid_area": null,
            "grid_auto_columns": null,
            "grid_auto_flow": null,
            "grid_auto_rows": null,
            "grid_column": null,
            "grid_gap": null,
            "grid_row": null,
            "grid_template_areas": null,
            "grid_template_columns": null,
            "grid_template_rows": null,
            "height": null,
            "justify_content": null,
            "justify_items": null,
            "left": null,
            "margin": null,
            "max_height": null,
            "max_width": null,
            "min_height": null,
            "min_width": null,
            "object_fit": null,
            "object_position": null,
            "order": null,
            "overflow": null,
            "overflow_x": null,
            "overflow_y": null,
            "padding": null,
            "right": null,
            "top": null,
            "visibility": null,
            "width": null
          }
        },
        "ca0d5df3d0f0455fa37f9c74b4dc8b73": {
          "model_module": "@jupyter-widgets/base",
          "model_name": "LayoutModel",
          "model_module_version": "1.2.0",
          "state": {
            "_model_module": "@jupyter-widgets/base",
            "_model_module_version": "1.2.0",
            "_model_name": "LayoutModel",
            "_view_count": null,
            "_view_module": "@jupyter-widgets/base",
            "_view_module_version": "1.2.0",
            "_view_name": "LayoutView",
            "align_content": null,
            "align_items": null,
            "align_self": null,
            "border": null,
            "bottom": null,
            "display": null,
            "flex": null,
            "flex_flow": null,
            "grid_area": null,
            "grid_auto_columns": null,
            "grid_auto_flow": null,
            "grid_auto_rows": null,
            "grid_column": null,
            "grid_gap": null,
            "grid_row": null,
            "grid_template_areas": null,
            "grid_template_columns": null,
            "grid_template_rows": null,
            "height": null,
            "justify_content": null,
            "justify_items": null,
            "left": null,
            "margin": null,
            "max_height": null,
            "max_width": null,
            "min_height": null,
            "min_width": null,
            "object_fit": null,
            "object_position": null,
            "order": null,
            "overflow": null,
            "overflow_x": null,
            "overflow_y": null,
            "padding": null,
            "right": null,
            "top": null,
            "visibility": null,
            "width": null
          }
        },
        "88f1e3a171e247fca80d86ca8001a905": {
          "model_module": "@jupyter-widgets/controls",
          "model_name": "DescriptionStyleModel",
          "model_module_version": "1.5.0",
          "state": {
            "_model_module": "@jupyter-widgets/controls",
            "_model_module_version": "1.5.0",
            "_model_name": "DescriptionStyleModel",
            "_view_count": null,
            "_view_module": "@jupyter-widgets/base",
            "_view_module_version": "1.2.0",
            "_view_name": "StyleView",
            "description_width": ""
          }
        },
        "346d2e2bb8514d0f93c83dba8ecfe5f2": {
          "model_module": "@jupyter-widgets/base",
          "model_name": "LayoutModel",
          "model_module_version": "1.2.0",
          "state": {
            "_model_module": "@jupyter-widgets/base",
            "_model_module_version": "1.2.0",
            "_model_name": "LayoutModel",
            "_view_count": null,
            "_view_module": "@jupyter-widgets/base",
            "_view_module_version": "1.2.0",
            "_view_name": "LayoutView",
            "align_content": null,
            "align_items": null,
            "align_self": null,
            "border": null,
            "bottom": null,
            "display": null,
            "flex": null,
            "flex_flow": null,
            "grid_area": null,
            "grid_auto_columns": null,
            "grid_auto_flow": null,
            "grid_auto_rows": null,
            "grid_column": null,
            "grid_gap": null,
            "grid_row": null,
            "grid_template_areas": null,
            "grid_template_columns": null,
            "grid_template_rows": null,
            "height": null,
            "justify_content": null,
            "justify_items": null,
            "left": null,
            "margin": null,
            "max_height": null,
            "max_width": null,
            "min_height": null,
            "min_width": null,
            "object_fit": null,
            "object_position": null,
            "order": null,
            "overflow": null,
            "overflow_x": null,
            "overflow_y": null,
            "padding": null,
            "right": null,
            "top": null,
            "visibility": null,
            "width": null
          }
        },
        "fe3c6d59c0b64235b434eabff3e171e9": {
          "model_module": "@jupyter-widgets/controls",
          "model_name": "ProgressStyleModel",
          "model_module_version": "1.5.0",
          "state": {
            "_model_module": "@jupyter-widgets/controls",
            "_model_module_version": "1.5.0",
            "_model_name": "ProgressStyleModel",
            "_view_count": null,
            "_view_module": "@jupyter-widgets/base",
            "_view_module_version": "1.2.0",
            "_view_name": "StyleView",
            "bar_color": null,
            "description_width": ""
          }
        },
        "36b79c56c5cf4f78b056ca681172f8e1": {
          "model_module": "@jupyter-widgets/base",
          "model_name": "LayoutModel",
          "model_module_version": "1.2.0",
          "state": {
            "_model_module": "@jupyter-widgets/base",
            "_model_module_version": "1.2.0",
            "_model_name": "LayoutModel",
            "_view_count": null,
            "_view_module": "@jupyter-widgets/base",
            "_view_module_version": "1.2.0",
            "_view_name": "LayoutView",
            "align_content": null,
            "align_items": null,
            "align_self": null,
            "border": null,
            "bottom": null,
            "display": null,
            "flex": null,
            "flex_flow": null,
            "grid_area": null,
            "grid_auto_columns": null,
            "grid_auto_flow": null,
            "grid_auto_rows": null,
            "grid_column": null,
            "grid_gap": null,
            "grid_row": null,
            "grid_template_areas": null,
            "grid_template_columns": null,
            "grid_template_rows": null,
            "height": null,
            "justify_content": null,
            "justify_items": null,
            "left": null,
            "margin": null,
            "max_height": null,
            "max_width": null,
            "min_height": null,
            "min_width": null,
            "object_fit": null,
            "object_position": null,
            "order": null,
            "overflow": null,
            "overflow_x": null,
            "overflow_y": null,
            "padding": null,
            "right": null,
            "top": null,
            "visibility": null,
            "width": null
          }
        },
        "5b38d6b2ae2e487a94d171d587abe6db": {
          "model_module": "@jupyter-widgets/controls",
          "model_name": "DescriptionStyleModel",
          "model_module_version": "1.5.0",
          "state": {
            "_model_module": "@jupyter-widgets/controls",
            "_model_module_version": "1.5.0",
            "_model_name": "DescriptionStyleModel",
            "_view_count": null,
            "_view_module": "@jupyter-widgets/base",
            "_view_module_version": "1.2.0",
            "_view_name": "StyleView",
            "description_width": ""
          }
        },
        "06509d2afbfb4e3197aafeae364c378f": {
          "model_module": "@jupyter-widgets/controls",
          "model_name": "HBoxModel",
          "model_module_version": "1.5.0",
          "state": {
            "_dom_classes": [],
            "_model_module": "@jupyter-widgets/controls",
            "_model_module_version": "1.5.0",
            "_model_name": "HBoxModel",
            "_view_count": null,
            "_view_module": "@jupyter-widgets/controls",
            "_view_module_version": "1.5.0",
            "_view_name": "HBoxView",
            "box_style": "",
            "children": [
              "IPY_MODEL_a0a7493a866a4570967c40520017b18e",
              "IPY_MODEL_e2c62613c53d4010884aa588cb33623a",
              "IPY_MODEL_71bf961938dd45149644c21884fa6661"
            ],
            "layout": "IPY_MODEL_eea8bdfd43a041d38be762d438e53a51"
          }
        },
        "a0a7493a866a4570967c40520017b18e": {
          "model_module": "@jupyter-widgets/controls",
          "model_name": "HTMLModel",
          "model_module_version": "1.5.0",
          "state": {
            "_dom_classes": [],
            "_model_module": "@jupyter-widgets/controls",
            "_model_module_version": "1.5.0",
            "_model_name": "HTMLModel",
            "_view_count": null,
            "_view_module": "@jupyter-widgets/controls",
            "_view_module_version": "1.5.0",
            "_view_name": "HTMLView",
            "description": "",
            "description_tooltip": null,
            "layout": "IPY_MODEL_aa107f99d1234422b9fd67c5bfd0e114",
            "placeholder": "​",
            "style": "IPY_MODEL_7d75140b927a4e4abb8d8734e7ed4d3a",
            "value": "Downloading: 100%"
          }
        },
        "e2c62613c53d4010884aa588cb33623a": {
          "model_module": "@jupyter-widgets/controls",
          "model_name": "FloatProgressModel",
          "model_module_version": "1.5.0",
          "state": {
            "_dom_classes": [],
            "_model_module": "@jupyter-widgets/controls",
            "_model_module_version": "1.5.0",
            "_model_name": "FloatProgressModel",
            "_view_count": null,
            "_view_module": "@jupyter-widgets/controls",
            "_view_module_version": "1.5.0",
            "_view_name": "ProgressView",
            "bar_style": "success",
            "description": "",
            "description_tooltip": null,
            "layout": "IPY_MODEL_34c70650154241169665d8f88b666f4e",
            "max": 1115590446,
            "min": 0,
            "orientation": "horizontal",
            "style": "IPY_MODEL_7d4f077a4c8f418a8dcffa9ac472def2",
            "value": 1115590446
          }
        },
        "71bf961938dd45149644c21884fa6661": {
          "model_module": "@jupyter-widgets/controls",
          "model_name": "HTMLModel",
          "model_module_version": "1.5.0",
          "state": {
            "_dom_classes": [],
            "_model_module": "@jupyter-widgets/controls",
            "_model_module_version": "1.5.0",
            "_model_name": "HTMLModel",
            "_view_count": null,
            "_view_module": "@jupyter-widgets/controls",
            "_view_module_version": "1.5.0",
            "_view_name": "HTMLView",
            "description": "",
            "description_tooltip": null,
            "layout": "IPY_MODEL_e6f3d9fce59f4352b2b9161a508901d8",
            "placeholder": "​",
            "style": "IPY_MODEL_4d4be75af05d45129ba0e33c9772576b",
            "value": " 1.12G/1.12G [00:14&lt;00:00, 81.8MB/s]"
          }
        },
        "eea8bdfd43a041d38be762d438e53a51": {
          "model_module": "@jupyter-widgets/base",
          "model_name": "LayoutModel",
          "model_module_version": "1.2.0",
          "state": {
            "_model_module": "@jupyter-widgets/base",
            "_model_module_version": "1.2.0",
            "_model_name": "LayoutModel",
            "_view_count": null,
            "_view_module": "@jupyter-widgets/base",
            "_view_module_version": "1.2.0",
            "_view_name": "LayoutView",
            "align_content": null,
            "align_items": null,
            "align_self": null,
            "border": null,
            "bottom": null,
            "display": null,
            "flex": null,
            "flex_flow": null,
            "grid_area": null,
            "grid_auto_columns": null,
            "grid_auto_flow": null,
            "grid_auto_rows": null,
            "grid_column": null,
            "grid_gap": null,
            "grid_row": null,
            "grid_template_areas": null,
            "grid_template_columns": null,
            "grid_template_rows": null,
            "height": null,
            "justify_content": null,
            "justify_items": null,
            "left": null,
            "margin": null,
            "max_height": null,
            "max_width": null,
            "min_height": null,
            "min_width": null,
            "object_fit": null,
            "object_position": null,
            "order": null,
            "overflow": null,
            "overflow_x": null,
            "overflow_y": null,
            "padding": null,
            "right": null,
            "top": null,
            "visibility": null,
            "width": null
          }
        },
        "aa107f99d1234422b9fd67c5bfd0e114": {
          "model_module": "@jupyter-widgets/base",
          "model_name": "LayoutModel",
          "model_module_version": "1.2.0",
          "state": {
            "_model_module": "@jupyter-widgets/base",
            "_model_module_version": "1.2.0",
            "_model_name": "LayoutModel",
            "_view_count": null,
            "_view_module": "@jupyter-widgets/base",
            "_view_module_version": "1.2.0",
            "_view_name": "LayoutView",
            "align_content": null,
            "align_items": null,
            "align_self": null,
            "border": null,
            "bottom": null,
            "display": null,
            "flex": null,
            "flex_flow": null,
            "grid_area": null,
            "grid_auto_columns": null,
            "grid_auto_flow": null,
            "grid_auto_rows": null,
            "grid_column": null,
            "grid_gap": null,
            "grid_row": null,
            "grid_template_areas": null,
            "grid_template_columns": null,
            "grid_template_rows": null,
            "height": null,
            "justify_content": null,
            "justify_items": null,
            "left": null,
            "margin": null,
            "max_height": null,
            "max_width": null,
            "min_height": null,
            "min_width": null,
            "object_fit": null,
            "object_position": null,
            "order": null,
            "overflow": null,
            "overflow_x": null,
            "overflow_y": null,
            "padding": null,
            "right": null,
            "top": null,
            "visibility": null,
            "width": null
          }
        },
        "7d75140b927a4e4abb8d8734e7ed4d3a": {
          "model_module": "@jupyter-widgets/controls",
          "model_name": "DescriptionStyleModel",
          "model_module_version": "1.5.0",
          "state": {
            "_model_module": "@jupyter-widgets/controls",
            "_model_module_version": "1.5.0",
            "_model_name": "DescriptionStyleModel",
            "_view_count": null,
            "_view_module": "@jupyter-widgets/base",
            "_view_module_version": "1.2.0",
            "_view_name": "StyleView",
            "description_width": ""
          }
        },
        "34c70650154241169665d8f88b666f4e": {
          "model_module": "@jupyter-widgets/base",
          "model_name": "LayoutModel",
          "model_module_version": "1.2.0",
          "state": {
            "_model_module": "@jupyter-widgets/base",
            "_model_module_version": "1.2.0",
            "_model_name": "LayoutModel",
            "_view_count": null,
            "_view_module": "@jupyter-widgets/base",
            "_view_module_version": "1.2.0",
            "_view_name": "LayoutView",
            "align_content": null,
            "align_items": null,
            "align_self": null,
            "border": null,
            "bottom": null,
            "display": null,
            "flex": null,
            "flex_flow": null,
            "grid_area": null,
            "grid_auto_columns": null,
            "grid_auto_flow": null,
            "grid_auto_rows": null,
            "grid_column": null,
            "grid_gap": null,
            "grid_row": null,
            "grid_template_areas": null,
            "grid_template_columns": null,
            "grid_template_rows": null,
            "height": null,
            "justify_content": null,
            "justify_items": null,
            "left": null,
            "margin": null,
            "max_height": null,
            "max_width": null,
            "min_height": null,
            "min_width": null,
            "object_fit": null,
            "object_position": null,
            "order": null,
            "overflow": null,
            "overflow_x": null,
            "overflow_y": null,
            "padding": null,
            "right": null,
            "top": null,
            "visibility": null,
            "width": null
          }
        },
        "7d4f077a4c8f418a8dcffa9ac472def2": {
          "model_module": "@jupyter-widgets/controls",
          "model_name": "ProgressStyleModel",
          "model_module_version": "1.5.0",
          "state": {
            "_model_module": "@jupyter-widgets/controls",
            "_model_module_version": "1.5.0",
            "_model_name": "ProgressStyleModel",
            "_view_count": null,
            "_view_module": "@jupyter-widgets/base",
            "_view_module_version": "1.2.0",
            "_view_name": "StyleView",
            "bar_color": null,
            "description_width": ""
          }
        },
        "e6f3d9fce59f4352b2b9161a508901d8": {
          "model_module": "@jupyter-widgets/base",
          "model_name": "LayoutModel",
          "model_module_version": "1.2.0",
          "state": {
            "_model_module": "@jupyter-widgets/base",
            "_model_module_version": "1.2.0",
            "_model_name": "LayoutModel",
            "_view_count": null,
            "_view_module": "@jupyter-widgets/base",
            "_view_module_version": "1.2.0",
            "_view_name": "LayoutView",
            "align_content": null,
            "align_items": null,
            "align_self": null,
            "border": null,
            "bottom": null,
            "display": null,
            "flex": null,
            "flex_flow": null,
            "grid_area": null,
            "grid_auto_columns": null,
            "grid_auto_flow": null,
            "grid_auto_rows": null,
            "grid_column": null,
            "grid_gap": null,
            "grid_row": null,
            "grid_template_areas": null,
            "grid_template_columns": null,
            "grid_template_rows": null,
            "height": null,
            "justify_content": null,
            "justify_items": null,
            "left": null,
            "margin": null,
            "max_height": null,
            "max_width": null,
            "min_height": null,
            "min_width": null,
            "object_fit": null,
            "object_position": null,
            "order": null,
            "overflow": null,
            "overflow_x": null,
            "overflow_y": null,
            "padding": null,
            "right": null,
            "top": null,
            "visibility": null,
            "width": null
          }
        },
        "4d4be75af05d45129ba0e33c9772576b": {
          "model_module": "@jupyter-widgets/controls",
          "model_name": "DescriptionStyleModel",
          "model_module_version": "1.5.0",
          "state": {
            "_model_module": "@jupyter-widgets/controls",
            "_model_module_version": "1.5.0",
            "_model_name": "DescriptionStyleModel",
            "_view_count": null,
            "_view_module": "@jupyter-widgets/base",
            "_view_module_version": "1.2.0",
            "_view_name": "StyleView",
            "description_width": ""
          }
        }
      }
    }
  },
  "cells": [
    {
      "cell_type": "markdown",
      "metadata": {
        "id": "view-in-github",
        "colab_type": "text"
      },
      "source": [
        "<a href=\"https://colab.research.google.com/github/alexmoralesch/tfg/blob/main/PRUEBATFG.ipynb\" target=\"_parent\"><img src=\"https://colab.research.google.com/assets/colab-badge.svg\" alt=\"Open In Colab\"/></a>"
      ]
    },
    {
      "cell_type": "markdown",
      "metadata": {
        "id": "0yMTmZptEkHC"
      },
      "source": [
        "# Imports\n"
      ]
    },
    {
      "cell_type": "code",
      "metadata": {
        "id": "aaxWLY9GFE2W",
        "colab": {
          "base_uri": "https://localhost:8080/"
        },
        "outputId": "6f26a651-0f49-4ca6-f968-37f3d63cf280"
      },
      "source": [
        "!pip install transformers\n",
        "!pip install sacremoses==0.0.43\n",
        "!pip install sentencepiece==0.1.95\n",
        "!pip uninstall spacy -y\n",
        "!pip install spacy==2.2.4\n"
      ],
      "execution_count": null,
      "outputs": [
        {
          "output_type": "stream",
          "name": "stdout",
          "text": [
            "Looking in indexes: https://pypi.org/simple, https://us-python.pkg.dev/colab-wheels/public/simple/\n",
            "Collecting transformers\n",
            "  Downloading transformers-4.25.1-py3-none-any.whl (5.8 MB)\n",
            "\u001b[K     |████████████████████████████████| 5.8 MB 7.1 MB/s \n",
            "\u001b[?25hRequirement already satisfied: requests in /usr/local/lib/python3.8/dist-packages (from transformers) (2.23.0)\n",
            "Requirement already satisfied: filelock in /usr/local/lib/python3.8/dist-packages (from transformers) (3.8.0)\n",
            "Requirement already satisfied: pyyaml>=5.1 in /usr/local/lib/python3.8/dist-packages (from transformers) (6.0)\n",
            "Requirement already satisfied: tqdm>=4.27 in /usr/local/lib/python3.8/dist-packages (from transformers) (4.64.1)\n",
            "Collecting huggingface-hub<1.0,>=0.10.0\n",
            "  Downloading huggingface_hub-0.11.1-py3-none-any.whl (182 kB)\n",
            "\u001b[K     |████████████████████████████████| 182 kB 6.5 MB/s \n",
            "\u001b[?25hRequirement already satisfied: numpy>=1.17 in /usr/local/lib/python3.8/dist-packages (from transformers) (1.21.6)\n",
            "Requirement already satisfied: regex!=2019.12.17 in /usr/local/lib/python3.8/dist-packages (from transformers) (2022.6.2)\n",
            "Requirement already satisfied: packaging>=20.0 in /usr/local/lib/python3.8/dist-packages (from transformers) (21.3)\n",
            "Collecting tokenizers!=0.11.3,<0.14,>=0.11.1\n",
            "  Downloading tokenizers-0.13.2-cp38-cp38-manylinux_2_17_x86_64.manylinux2014_x86_64.whl (7.6 MB)\n",
            "\u001b[K     |████████████████████████████████| 7.6 MB 52.9 MB/s \n",
            "\u001b[?25hRequirement already satisfied: typing-extensions>=3.7.4.3 in /usr/local/lib/python3.8/dist-packages (from huggingface-hub<1.0,>=0.10.0->transformers) (4.1.1)\n",
            "Requirement already satisfied: pyparsing!=3.0.5,>=2.0.2 in /usr/local/lib/python3.8/dist-packages (from packaging>=20.0->transformers) (3.0.9)\n",
            "Requirement already satisfied: chardet<4,>=3.0.2 in /usr/local/lib/python3.8/dist-packages (from requests->transformers) (3.0.4)\n",
            "Requirement already satisfied: urllib3!=1.25.0,!=1.25.1,<1.26,>=1.21.1 in /usr/local/lib/python3.8/dist-packages (from requests->transformers) (1.24.3)\n",
            "Requirement already satisfied: idna<3,>=2.5 in /usr/local/lib/python3.8/dist-packages (from requests->transformers) (2.10)\n",
            "Requirement already satisfied: certifi>=2017.4.17 in /usr/local/lib/python3.8/dist-packages (from requests->transformers) (2022.9.24)\n",
            "Installing collected packages: tokenizers, huggingface-hub, transformers\n",
            "Successfully installed huggingface-hub-0.11.1 tokenizers-0.13.2 transformers-4.25.1\n",
            "Looking in indexes: https://pypi.org/simple, https://us-python.pkg.dev/colab-wheels/public/simple/\n",
            "Collecting sacremoses==0.0.43\n",
            "  Downloading sacremoses-0.0.43.tar.gz (883 kB)\n",
            "\u001b[K     |████████████████████████████████| 883 kB 6.5 MB/s \n",
            "\u001b[?25hRequirement already satisfied: regex in /usr/local/lib/python3.8/dist-packages (from sacremoses==0.0.43) (2022.6.2)\n",
            "Requirement already satisfied: six in /usr/local/lib/python3.8/dist-packages (from sacremoses==0.0.43) (1.15.0)\n",
            "Requirement already satisfied: click in /usr/local/lib/python3.8/dist-packages (from sacremoses==0.0.43) (7.1.2)\n",
            "Requirement already satisfied: joblib in /usr/local/lib/python3.8/dist-packages (from sacremoses==0.0.43) (1.2.0)\n",
            "Requirement already satisfied: tqdm in /usr/local/lib/python3.8/dist-packages (from sacremoses==0.0.43) (4.64.1)\n",
            "Building wheels for collected packages: sacremoses\n",
            "  Building wheel for sacremoses (setup.py) ... \u001b[?25l\u001b[?25hdone\n",
            "  Created wheel for sacremoses: filename=sacremoses-0.0.43-py3-none-any.whl size=893251 sha256=fc12ce3edb5a17680e569a219fc3a57771ac147000db4f61cf4bac3dd4ac0d12\n",
            "  Stored in directory: /root/.cache/pip/wheels/7b/78/f4/27d43a65043e1b75dbddaa421b573eddc67e712be4b1c80677\n",
            "Successfully built sacremoses\n",
            "Installing collected packages: sacremoses\n",
            "Successfully installed sacremoses-0.0.43\n",
            "Looking in indexes: https://pypi.org/simple, https://us-python.pkg.dev/colab-wheels/public/simple/\n",
            "Collecting sentencepiece==0.1.95\n",
            "  Downloading sentencepiece-0.1.95-cp38-cp38-manylinux2014_x86_64.whl (1.2 MB)\n",
            "\u001b[K     |████████████████████████████████| 1.2 MB 6.6 MB/s \n",
            "\u001b[?25hInstalling collected packages: sentencepiece\n",
            "Successfully installed sentencepiece-0.1.95\n",
            "Found existing installation: spacy 3.4.3\n",
            "Uninstalling spacy-3.4.3:\n",
            "  Successfully uninstalled spacy-3.4.3\n",
            "Looking in indexes: https://pypi.org/simple, https://us-python.pkg.dev/colab-wheels/public/simple/\n",
            "Collecting spacy==2.2.4\n",
            "  Downloading spacy-2.2.4-cp38-cp38-manylinux1_x86_64.whl (10.6 MB)\n",
            "\u001b[K     |████████████████████████████████| 10.6 MB 13.0 MB/s \n",
            "\u001b[?25hCollecting plac<1.2.0,>=0.9.6\n",
            "  Downloading plac-1.1.3-py2.py3-none-any.whl (20 kB)\n",
            "Collecting thinc==7.4.0\n",
            "  Downloading thinc-7.4.0-cp38-cp38-manylinux1_x86_64.whl (2.2 MB)\n",
            "\u001b[K     |████████████████████████████████| 2.2 MB 28.5 MB/s \n",
            "\u001b[?25hRequirement already satisfied: murmurhash<1.1.0,>=0.28.0 in /usr/local/lib/python3.8/dist-packages (from spacy==2.2.4) (1.0.9)\n",
            "Collecting srsly<1.1.0,>=1.0.2\n",
            "  Downloading srsly-1.0.6-cp38-cp38-manylinux_2_17_x86_64.manylinux2014_x86_64.whl (211 kB)\n",
            "\u001b[K     |████████████████████████████████| 211 kB 29.9 MB/s \n",
            "\u001b[?25hRequirement already satisfied: cymem<2.1.0,>=2.0.2 in /usr/local/lib/python3.8/dist-packages (from spacy==2.2.4) (2.0.7)\n",
            "Requirement already satisfied: preshed<3.1.0,>=3.0.2 in /usr/local/lib/python3.8/dist-packages (from spacy==2.2.4) (3.0.8)\n",
            "Collecting catalogue<1.1.0,>=0.0.7\n",
            "  Downloading catalogue-1.0.2-py2.py3-none-any.whl (16 kB)\n",
            "Requirement already satisfied: tqdm<5.0.0,>=4.38.0 in /usr/local/lib/python3.8/dist-packages (from spacy==2.2.4) (4.64.1)\n",
            "Requirement already satisfied: requests<3.0.0,>=2.13.0 in /usr/local/lib/python3.8/dist-packages (from spacy==2.2.4) (2.23.0)\n",
            "Collecting blis<0.5.0,>=0.4.0\n",
            "  Downloading blis-0.4.1-cp38-cp38-manylinux1_x86_64.whl (3.7 MB)\n",
            "\u001b[K     |████████████████████████████████| 3.7 MB 29.7 MB/s \n",
            "\u001b[?25hRequirement already satisfied: setuptools in /usr/local/lib/python3.8/dist-packages (from spacy==2.2.4) (57.4.0)\n",
            "Requirement already satisfied: wasabi<1.1.0,>=0.4.0 in /usr/local/lib/python3.8/dist-packages (from spacy==2.2.4) (0.10.1)\n",
            "Requirement already satisfied: numpy>=1.15.0 in /usr/local/lib/python3.8/dist-packages (from spacy==2.2.4) (1.21.6)\n",
            "Requirement already satisfied: certifi>=2017.4.17 in /usr/local/lib/python3.8/dist-packages (from requests<3.0.0,>=2.13.0->spacy==2.2.4) (2022.9.24)\n",
            "Requirement already satisfied: chardet<4,>=3.0.2 in /usr/local/lib/python3.8/dist-packages (from requests<3.0.0,>=2.13.0->spacy==2.2.4) (3.0.4)\n",
            "Requirement already satisfied: idna<3,>=2.5 in /usr/local/lib/python3.8/dist-packages (from requests<3.0.0,>=2.13.0->spacy==2.2.4) (2.10)\n",
            "Requirement already satisfied: urllib3!=1.25.0,!=1.25.1,<1.26,>=1.21.1 in /usr/local/lib/python3.8/dist-packages (from requests<3.0.0,>=2.13.0->spacy==2.2.4) (1.24.3)\n",
            "Installing collected packages: srsly, plac, catalogue, blis, thinc, spacy\n",
            "  Attempting uninstall: srsly\n",
            "    Found existing installation: srsly 2.4.5\n",
            "    Uninstalling srsly-2.4.5:\n",
            "      Successfully uninstalled srsly-2.4.5\n",
            "  Attempting uninstall: catalogue\n",
            "    Found existing installation: catalogue 2.0.8\n",
            "    Uninstalling catalogue-2.0.8:\n",
            "      Successfully uninstalled catalogue-2.0.8\n",
            "  Attempting uninstall: blis\n",
            "    Found existing installation: blis 0.7.9\n",
            "    Uninstalling blis-0.7.9:\n",
            "      Successfully uninstalled blis-0.7.9\n",
            "  Attempting uninstall: thinc\n",
            "    Found existing installation: thinc 8.1.5\n",
            "    Uninstalling thinc-8.1.5:\n",
            "      Successfully uninstalled thinc-8.1.5\n",
            "\u001b[31mERROR: pip's dependency resolver does not currently take into account all the packages that are installed. This behaviour is the source of the following dependency conflicts.\n",
            "en-core-web-sm 3.4.1 requires spacy<3.5.0,>=3.4.0, but you have spacy 2.2.4 which is incompatible.\n",
            "confection 0.0.3 requires srsly<3.0.0,>=2.4.0, but you have srsly 1.0.6 which is incompatible.\u001b[0m\n",
            "Successfully installed blis-0.4.1 catalogue-1.0.2 plac-1.1.3 spacy-2.2.4 srsly-1.0.6 thinc-7.4.0\n"
          ]
        }
      ]
    },
    {
      "cell_type": "code",
      "metadata": {
        "id": "m9fYtB3_FHuK",
        "colab": {
          "base_uri": "https://localhost:8080/"
        },
        "outputId": "c2e4b7e1-1c9a-4ead-ada0-6aabe3a7ec35"
      },
      "source": [
        "#torch and tranformers for model and training\n",
        "import torch  \n",
        "from torch.utils.data import DataLoader, RandomSampler, SequentialSampler\n",
        "from torch.utils.data import TensorDataset\n",
        "from transformers import XLMRobertaTokenizer              \n",
        "from transformers import XLMRobertaForSequenceClassification\n",
        "from transformers import AdamW                            \n",
        "from transformers import get_linear_schedule_with_warmup\n",
        "import sentencepiece\n",
        "\n",
        "#sklearn for evaluation\n",
        "from sklearn import preprocessing                       \n",
        "from sklearn.metrics import classification_report        \n",
        "from sklearn.metrics import f1_score\n",
        "from sklearn.metrics import confusion_matrix\n",
        "from sklearn.model_selection import ParameterGrid         \n",
        "from sklearn.model_selection import ParameterSampler      \n",
        "from sklearn.utils.fixes import loguniform\n",
        "\n",
        "#nlp preprocessing\n",
        "from nltk import ngrams                                 \n",
        "from spacy.pipeline import SentenceSegmenter\n",
        "from spacy.lang.en import English\n",
        "from spacy.pipeline import Sentencizer\n",
        "from sacremoses import MosesTokenizer, MosesDetokenizer\n",
        "\n",
        "\n",
        "#utilities\n",
        "import pandas as pd\n",
        "import glob, os\n",
        "import time\n",
        "import datetime\n",
        "import random\n",
        "import numpy as np\n",
        "import matplotlib.pyplot as plt\n",
        "% matplotlib inline\n",
        "import seaborn as sns\n",
        "import pickle"
      ],
      "execution_count": null,
      "outputs": [
        {
          "output_type": "stream",
          "name": "stderr",
          "text": [
            "UsageError: Line magic function `%` not found.\n"
          ]
        }
      ]
    },
    {
      "cell_type": "code",
      "metadata": {
        "id": "kpY66eTVxQNH",
        "colab": {
          "base_uri": "https://localhost:8080/"
        },
        "outputId": "6f4b4480-c889-40ea-eb09-26f69a8b417a"
      },
      "source": [
        "# connect to GPU \n",
        "device = torch.device('cuda')\n",
        "\n",
        "print('Connected to GPU:', torch.cuda.get_device_name(0))"
      ],
      "execution_count": null,
      "outputs": [
        {
          "output_type": "stream",
          "name": "stdout",
          "text": [
            "Connected to GPU: Tesla T4\n"
          ]
        }
      ]
    },
    {
      "cell_type": "markdown",
      "metadata": {
        "id": "3RPZ14sYHHUm"
      },
      "source": [
        "# Prepare Data"
      ]
    },
    {
      "cell_type": "markdown",
      "metadata": {
        "id": "TKqV3YfXHSNz"
      },
      "source": [
        "Training Data: corp, wind\n",
        "\n",
        "Valid: equi\n",
        "\n",
        "Test Data: htfl"
      ]
    },
    {
      "cell_type": "code",
      "source": [
        "from google.colab import drive\n",
        "drive.mount('/content/drive')"
      ],
      "metadata": {
        "colab": {
          "base_uri": "https://localhost:8080/"
        },
        "id": "KLJIYz-DZWUu",
        "outputId": "55002204-53a8-4cfd-bf47-6ef563f685d6"
      },
      "execution_count": null,
      "outputs": [
        {
          "output_type": "stream",
          "name": "stdout",
          "text": [
            "Mounted at /content/drive\n"
          ]
        }
      ]
    },
    {
      "cell_type": "code",
      "metadata": {
        "id": "ERUBsPPOFfe1"
      },
      "source": [
        "#load terms\n",
        "\n",
        "#en\n",
        "df_corp_terms_en=pd.read_csv('/content/drive/MyDrive/ACTER-master/en/corp/annotated/annotations/unique_annotation_lists/corp_en_terms_nes.tsv', delimiter=\"\\t\", names=[\"Term\", \"Label\"])  \n",
        "df_equi_terms_en=pd.read_csv('/content/drive/MyDrive/ACTER-master/en/equi/annotated/annotations/unique_annotation_lists/equi_en_terms_nes.tsv', delimiter=\"\\t\", names=[\"Term\", \"Label\"])  \n",
        "df_htfl_terms_en=pd.read_csv('/content/drive/MyDrive/ACTER-master/en/htfl/annotated/annotations/unique_annotation_lists/htfl_en_terms_nes.tsv', delimiter=\"\\t\", names=[\"Term\", \"Label\"])  \n",
        "df_wind_terms_en=pd.read_csv('/content/drive/MyDrive/ACTER-master/en/wind/annotated/annotations/unique_annotation_lists/wind_en_terms_nes.tsv', delimiter=\"\\t\", names=[\"Term\", \"Label\"])  \n",
        "\n",
        "#fr\n",
        "df_corp_terms_fr=pd.read_csv('/content/drive/MyDrive/ACTER-master/fr/corp/annotated/annotations/unique_annotation_lists/corp_fr_terms_nes.tsv', delimiter=\"\\t\", names=[\"Term\", \"Label\"])  \n",
        "df_equi_terms_fr=pd.read_csv('/content/drive/MyDrive/ACTER-master/fr/equi/annotated/annotations/unique_annotation_lists/equi_fr_terms_nes.tsv', delimiter=\"\\t\", names=[\"Term\", \"Label\"])  \n",
        "df_htfl_terms_fr=pd.read_csv('/content/drive/MyDrive/ACTER-master/fr/htfl/annotated/annotations/unique_annotation_lists/htfl_fr_terms_nes.tsv', delimiter=\"\\t\", names=[\"Term\", \"Label\"])  \n",
        "df_wind_terms_fr=pd.read_csv('/content/drive/MyDrive/ACTER-master/fr/wind/annotated/annotations/unique_annotation_lists/wind_fr_terms_nes.tsv', delimiter=\"\\t\", names=[\"Term\", \"Label\"])  \n",
        "\n",
        "#nl\n",
        "df_corp_terms_nl=pd.read_csv('/content/drive/MyDrive/ACTER-master/nl/corp/annotated/annotations/unique_annotation_lists/corp_nl_terms_nes.tsv', delimiter=\"\\t\", names=[\"Term\", \"Label\"])  \n",
        "df_equi_terms_nl=pd.read_csv('/content/drive/MyDrive/ACTER-master/nl/equi/annotated/annotations/unique_annotation_lists/equi_nl_terms_nes.tsv', delimiter=\"\\t\", names=[\"Term\", \"Label\"])  \n",
        "df_htfl_terms_nl=pd.read_csv('/content/drive/MyDrive/ACTER-master/nl/htfl/annotated/annotations/unique_annotation_lists/htfl_nl_terms_nes.tsv', delimiter=\"\\t\", names=[\"Term\", \"Label\"])  \n",
        "df_wind_terms_nl=pd.read_csv('/content/drive/MyDrive/ACTER-master/nl/wind/annotated/annotations/unique_annotation_lists/wind_nl_terms_nes.tsv', delimiter=\"\\t\", names=[\"Term\", \"Label\"])  \n",
        "\n",
        "labels=[\"Random\", \"Term\"]"
      ],
      "execution_count": null,
      "outputs": []
    },
    {
      "cell_type": "code",
      "metadata": {
        "colab": {
          "base_uri": "https://localhost:8080/",
          "height": 424
        },
        "id": "tw11QcsHF8Gc",
        "outputId": "60524bf8-89a6-4bf4-df66-51a6c14c676d"
      },
      "source": [
        "# example terms\n",
        "df_wind_terms_en"
      ],
      "execution_count": null,
      "outputs": [
        {
          "output_type": "execute_result",
          "data": {
            "text/plain": [
              "                        Term         Label\n",
              "0                     48/600  Named_Entity\n",
              "1                   4energia  Named_Entity\n",
              "2                    4energy  Named_Entity\n",
              "3     ab \"lietuvos energija\"  Named_Entity\n",
              "4      ab lietuvos elektrine  Named_Entity\n",
              "...                      ...           ...\n",
              "1526                 zhaoxue  Named_Entity\n",
              "1527                 zhiquan  Named_Entity\n",
              "1528               çetinkaya  Named_Entity\n",
              "1529                   çeşme  Named_Entity\n",
              "1530                   özgen  Named_Entity\n",
              "\n",
              "[1531 rows x 2 columns]"
            ],
            "text/html": [
              "\n",
              "  <div id=\"df-66eb7814-51ce-42a7-91b2-c968f662bde3\">\n",
              "    <div class=\"colab-df-container\">\n",
              "      <div>\n",
              "<style scoped>\n",
              "    .dataframe tbody tr th:only-of-type {\n",
              "        vertical-align: middle;\n",
              "    }\n",
              "\n",
              "    .dataframe tbody tr th {\n",
              "        vertical-align: top;\n",
              "    }\n",
              "\n",
              "    .dataframe thead th {\n",
              "        text-align: right;\n",
              "    }\n",
              "</style>\n",
              "<table border=\"1\" class=\"dataframe\">\n",
              "  <thead>\n",
              "    <tr style=\"text-align: right;\">\n",
              "      <th></th>\n",
              "      <th>Term</th>\n",
              "      <th>Label</th>\n",
              "    </tr>\n",
              "  </thead>\n",
              "  <tbody>\n",
              "    <tr>\n",
              "      <th>0</th>\n",
              "      <td>48/600</td>\n",
              "      <td>Named_Entity</td>\n",
              "    </tr>\n",
              "    <tr>\n",
              "      <th>1</th>\n",
              "      <td>4energia</td>\n",
              "      <td>Named_Entity</td>\n",
              "    </tr>\n",
              "    <tr>\n",
              "      <th>2</th>\n",
              "      <td>4energy</td>\n",
              "      <td>Named_Entity</td>\n",
              "    </tr>\n",
              "    <tr>\n",
              "      <th>3</th>\n",
              "      <td>ab \"lietuvos energija\"</td>\n",
              "      <td>Named_Entity</td>\n",
              "    </tr>\n",
              "    <tr>\n",
              "      <th>4</th>\n",
              "      <td>ab lietuvos elektrine</td>\n",
              "      <td>Named_Entity</td>\n",
              "    </tr>\n",
              "    <tr>\n",
              "      <th>...</th>\n",
              "      <td>...</td>\n",
              "      <td>...</td>\n",
              "    </tr>\n",
              "    <tr>\n",
              "      <th>1526</th>\n",
              "      <td>zhaoxue</td>\n",
              "      <td>Named_Entity</td>\n",
              "    </tr>\n",
              "    <tr>\n",
              "      <th>1527</th>\n",
              "      <td>zhiquan</td>\n",
              "      <td>Named_Entity</td>\n",
              "    </tr>\n",
              "    <tr>\n",
              "      <th>1528</th>\n",
              "      <td>çetinkaya</td>\n",
              "      <td>Named_Entity</td>\n",
              "    </tr>\n",
              "    <tr>\n",
              "      <th>1529</th>\n",
              "      <td>çeşme</td>\n",
              "      <td>Named_Entity</td>\n",
              "    </tr>\n",
              "    <tr>\n",
              "      <th>1530</th>\n",
              "      <td>özgen</td>\n",
              "      <td>Named_Entity</td>\n",
              "    </tr>\n",
              "  </tbody>\n",
              "</table>\n",
              "<p>1531 rows × 2 columns</p>\n",
              "</div>\n",
              "      <button class=\"colab-df-convert\" onclick=\"convertToInteractive('df-66eb7814-51ce-42a7-91b2-c968f662bde3')\"\n",
              "              title=\"Convert this dataframe to an interactive table.\"\n",
              "              style=\"display:none;\">\n",
              "        \n",
              "  <svg xmlns=\"http://www.w3.org/2000/svg\" height=\"24px\"viewBox=\"0 0 24 24\"\n",
              "       width=\"24px\">\n",
              "    <path d=\"M0 0h24v24H0V0z\" fill=\"none\"/>\n",
              "    <path d=\"M18.56 5.44l.94 2.06.94-2.06 2.06-.94-2.06-.94-.94-2.06-.94 2.06-2.06.94zm-11 1L8.5 8.5l.94-2.06 2.06-.94-2.06-.94L8.5 2.5l-.94 2.06-2.06.94zm10 10l.94 2.06.94-2.06 2.06-.94-2.06-.94-.94-2.06-.94 2.06-2.06.94z\"/><path d=\"M17.41 7.96l-1.37-1.37c-.4-.4-.92-.59-1.43-.59-.52 0-1.04.2-1.43.59L10.3 9.45l-7.72 7.72c-.78.78-.78 2.05 0 2.83L4 21.41c.39.39.9.59 1.41.59.51 0 1.02-.2 1.41-.59l7.78-7.78 2.81-2.81c.8-.78.8-2.07 0-2.86zM5.41 20L4 18.59l7.72-7.72 1.47 1.35L5.41 20z\"/>\n",
              "  </svg>\n",
              "      </button>\n",
              "      \n",
              "  <style>\n",
              "    .colab-df-container {\n",
              "      display:flex;\n",
              "      flex-wrap:wrap;\n",
              "      gap: 12px;\n",
              "    }\n",
              "\n",
              "    .colab-df-convert {\n",
              "      background-color: #E8F0FE;\n",
              "      border: none;\n",
              "      border-radius: 50%;\n",
              "      cursor: pointer;\n",
              "      display: none;\n",
              "      fill: #1967D2;\n",
              "      height: 32px;\n",
              "      padding: 0 0 0 0;\n",
              "      width: 32px;\n",
              "    }\n",
              "\n",
              "    .colab-df-convert:hover {\n",
              "      background-color: #E2EBFA;\n",
              "      box-shadow: 0px 1px 2px rgba(60, 64, 67, 0.3), 0px 1px 3px 1px rgba(60, 64, 67, 0.15);\n",
              "      fill: #174EA6;\n",
              "    }\n",
              "\n",
              "    [theme=dark] .colab-df-convert {\n",
              "      background-color: #3B4455;\n",
              "      fill: #D2E3FC;\n",
              "    }\n",
              "\n",
              "    [theme=dark] .colab-df-convert:hover {\n",
              "      background-color: #434B5C;\n",
              "      box-shadow: 0px 1px 3px 1px rgba(0, 0, 0, 0.15);\n",
              "      filter: drop-shadow(0px 1px 2px rgba(0, 0, 0, 0.3));\n",
              "      fill: #FFFFFF;\n",
              "    }\n",
              "  </style>\n",
              "\n",
              "      <script>\n",
              "        const buttonEl =\n",
              "          document.querySelector('#df-66eb7814-51ce-42a7-91b2-c968f662bde3 button.colab-df-convert');\n",
              "        buttonEl.style.display =\n",
              "          google.colab.kernel.accessAllowed ? 'block' : 'none';\n",
              "\n",
              "        async function convertToInteractive(key) {\n",
              "          const element = document.querySelector('#df-66eb7814-51ce-42a7-91b2-c968f662bde3');\n",
              "          const dataTable =\n",
              "            await google.colab.kernel.invokeFunction('convertToInteractive',\n",
              "                                                     [key], {});\n",
              "          if (!dataTable) return;\n",
              "\n",
              "          const docLinkHtml = 'Like what you see? Visit the ' +\n",
              "            '<a target=\"_blank\" href=https://colab.research.google.com/notebooks/data_table.ipynb>data table notebook</a>'\n",
              "            + ' to learn more about interactive tables.';\n",
              "          element.innerHTML = '';\n",
              "          dataTable['output_type'] = 'display_data';\n",
              "          await google.colab.output.renderOutput(dataTable, element);\n",
              "          const docLink = document.createElement('div');\n",
              "          docLink.innerHTML = docLinkHtml;\n",
              "          element.appendChild(docLink);\n",
              "        }\n",
              "      </script>\n",
              "    </div>\n",
              "  </div>\n",
              "  "
            ]
          },
          "metadata": {},
          "execution_count": 6
        }
      ]
    },
    {
      "cell_type": "markdown",
      "metadata": {
        "id": "sU7NMPaDvbWt"
      },
      "source": [
        "**Functions for preprocessing and creating of Training Data**"
      ]
    },
    {
      "cell_type": "code",
      "metadata": {
        "id": "3_stqlIDvZxA"
      },
      "source": [
        "#load all text files from folder into a string\n",
        "def load_text_corpus(path):\n",
        "  text_data=\"\"\n",
        "  print(glob.glob(path))\n",
        "  for file in glob.glob(path+\"*.txt\"):\n",
        "      print(file)\n",
        "      with open(file) as f:\n",
        "        temp_data = f.read()\n",
        "        print(len(temp_data))\n",
        "        text_data=text_data+\" \"+temp_data\n",
        "  print(len(text_data))\n",
        "  return text_data"
      ],
      "execution_count": null,
      "outputs": []
    },
    {
      "cell_type": "code",
      "metadata": {
        "id": "4nXtHwAyPoK0"
      },
      "source": [
        "#split in sentences and tokenize\n",
        "def preprocess(text):\n",
        "  #sentenize (from spacy)\n",
        "  sentencizer = Sentencizer()\n",
        "  nlp = English()\n",
        "  nlp.add_pipe(sentencizer)\n",
        "  doc = nlp(text)\n",
        "\n",
        "  #tokenize\n",
        "  sentence_list=[]\n",
        "  mt = MosesTokenizer(lang='en')\n",
        "  for s in doc.sents:\n",
        "    tokenized_text = mt.tokenize(s, return_str=True)\n",
        "    sentence_list.append((tokenized_text.split(), s))     #append tuple of tokens and original senteence\n",
        "  return sentence_list\n"
      ],
      "execution_count": null,
      "outputs": []
    },
    {
      "cell_type": "code",
      "metadata": {
        "id": "1qBA_KhoQkhB"
      },
      "source": [
        "#input is list of sentences and dataframe containing terms\n",
        "def create_training_data(sentence_list, df_terms, n):\n",
        "\n",
        "  #create empty dataframe\n",
        "  training_data = pd.DataFrame(columns=['n_gram', 'Context', 'Label', \"Termtype\"])\n",
        "\n",
        "  md = MosesDetokenizer(lang='en')\n",
        "\n",
        "\n",
        "  print(len(sentence_list))\n",
        "  count=0\n",
        "\n",
        "  for sen in sentence_list:\n",
        "    count+=1\n",
        "    if count%100==0:print(count)\n",
        "\n",
        "    s=sen[0]  #take first part of tuple, i.e. the tokens\n",
        "\n",
        "    # 1-gram up to n-gram\n",
        "    for i in range(1,n+1):\n",
        "      #create n-grams of this sentence\n",
        "      n_grams = ngrams(s, i)\n",
        "\n",
        "      #look if n-grams are in the annotation dataset\n",
        "      for n_gram in n_grams: \n",
        "        n_gram=md.detokenize(n_gram) \n",
        "        context=str(sen[1]).strip()\n",
        "        #if yes add an entry to the training data\n",
        "        if n_gram.lower() in df_terms.values:\n",
        "          #append positive sample\n",
        "          #get termtype like common term\n",
        "          termtype=\"/\"#df_terms.loc[df_terms['Term'] == n_gram.lower()].iloc[0][\"Label\"]\n",
        "          training_data = training_data.append({'n_gram': n_gram, 'Context': context, 'Label': 1, \"Termtype\":termtype}, ignore_index=True)\n",
        "        else:\n",
        "          #append negative sample\n",
        "          training_data = training_data.append({'n_gram': n_gram, 'Context': context, 'Label': 0, \"Termtype\":\"None\"}, ignore_index=True)\n",
        "\n",
        "  return training_data\n",
        "\n",
        "  "
      ],
      "execution_count": null,
      "outputs": []
    },
    {
      "cell_type": "markdown",
      "metadata": {
        "id": "4HhBTwYl1-dy"
      },
      "source": [
        "**Create Training Data**"
      ]
    },
    {
      "cell_type": "code",
      "metadata": {
        "id": "UemCf-2xPrn1",
        "colab": {
          "base_uri": "https://localhost:8080/"
        },
        "outputId": "c3e28a7a-aa5b-4ff5-9fc9-66c66f49a2f2"
      },
      "source": [
        "# en \n",
        "#create trainings data for all corp texts\n",
        "corp_text_en=load_text_corpus(\"/content/drive/MyDrive/ACTER-master/en/corp/annotated/texts/\") # load test\n",
        "corp_s_list=preprocess(corp_text_en)                                                # preprocess\n",
        "train_data_corp_en=create_training_data(corp_s_list, df_corp_terms_en, 6)           # create training data\n",
        "\n",
        "#create trainings data for all wind texts\n",
        "wind_text_en=load_text_corpus(\"/content/drive/MyDrive/ACTER-master/en/wind/annotated/texts/\") # load test\n",
        "wind_s_list=preprocess(wind_text_en)                                                # preprocess\n",
        "train_data_wind_en=create_training_data(wind_s_list, df_wind_terms_en, 6)           # create training data\n",
        "\n",
        "#create trainings data for all equi texts\n",
        "#equi_text_en=load_text_corpus(\"/content/drive/MyDrive/ACTER-master/en/equi/annotated/texts/\") # load test\n",
        "#equi_s_list=preprocess(equi_text_en)                                                # preprocess\n",
        "#train_data_equi_en=create_training_data(equi_s_list, df_equi_terms_en, 6)           # create training data\n",
        "\n",
        "#create trainings data for all htfl texts\n",
        "#htfl_text_en=load_text_corpus(\"/content/drive/MyDrive/ACTER-master/en/htfl/annotated/texts/\") # load test\n",
        "#htfl_s_list=preprocess(htfl_text_en)                                                # preprocess\n",
        "#train_data_htfl_en=create_training_data(htfl_s_list, df_htfl_terms_en, 6)           # create training data "
      ],
      "execution_count": null,
      "outputs": [
        {
          "output_type": "stream",
          "name": "stdout",
          "text": [
            "['/content/drive/MyDrive/ACTER-master/en/corp/annotated/texts/']\n",
            "/content/drive/MyDrive/ACTER-master/en/corp/annotated/texts/corp_en_01.txt\n",
            "22924\n",
            "/content/drive/MyDrive/ACTER-master/en/corp/annotated/texts/corp_en_04.txt\n",
            "5408\n",
            "/content/drive/MyDrive/ACTER-master/en/corp/annotated/texts/corp_en_02.txt\n",
            "10531\n",
            "/content/drive/MyDrive/ACTER-master/en/corp/annotated/texts/corp_en_05.txt\n",
            "5911\n",
            "/content/drive/MyDrive/ACTER-master/en/corp/annotated/texts/corp_en_06.txt\n",
            "68869\n",
            "/content/drive/MyDrive/ACTER-master/en/corp/annotated/texts/corp_en_09.txt\n",
            "11955\n",
            "/content/drive/MyDrive/ACTER-master/en/corp/annotated/texts/corp_en_07.txt\n",
            "50657\n",
            "/content/drive/MyDrive/ACTER-master/en/corp/annotated/texts/corp_en_08.txt\n",
            "26854\n",
            "/content/drive/MyDrive/ACTER-master/en/corp/annotated/texts/corp_en_10.txt\n",
            "2280\n",
            "/content/drive/MyDrive/ACTER-master/en/corp/annotated/texts/corp_en_11.txt\n",
            "43972\n",
            "/content/drive/MyDrive/ACTER-master/en/corp/annotated/texts/corp_en_19.txt\n",
            "9404\n",
            "/content/drive/MyDrive/ACTER-master/en/corp/annotated/texts/corp_en_12.txt\n",
            "39055\n",
            "297832\n",
            "1599\n",
            "100\n",
            "200\n",
            "300\n",
            "400\n",
            "500\n",
            "600\n",
            "700\n",
            "800\n",
            "900\n",
            "1000\n",
            "1100\n",
            "1200\n",
            "1300\n",
            "1400\n",
            "1500\n",
            "['/content/drive/MyDrive/ACTER-master/en/wind/annotated/texts/']\n",
            "/content/drive/MyDrive/ACTER-master/en/wind/annotated/texts/wind_en_01.txt\n",
            "167167\n",
            "/content/drive/MyDrive/ACTER-master/en/wind/annotated/texts/wind_en_02.txt\n",
            "89979\n",
            "/content/drive/MyDrive/ACTER-master/en/wind/annotated/texts/wind_en_04.txt\n",
            "27665\n",
            "/content/drive/MyDrive/ACTER-master/en/wind/annotated/texts/wind_en_26.txt\n",
            "10284\n",
            "/content/drive/MyDrive/ACTER-master/en/wind/annotated/texts/wind_en_32.txt\n",
            "11613\n",
            "306713\n",
            "1856\n",
            "100\n",
            "200\n",
            "300\n",
            "400\n",
            "500\n",
            "600\n",
            "700\n",
            "800\n",
            "900\n",
            "1000\n",
            "1100\n",
            "1200\n",
            "1300\n",
            "1400\n",
            "1500\n",
            "1600\n",
            "1700\n",
            "1800\n"
          ]
        }
      ]
    },
    {
      "cell_type": "code",
      "metadata": {
        "id": "stFqQ_Sd2gAN",
        "colab": {
          "base_uri": "https://localhost:8080/"
        },
        "outputId": "68af06e9-db42-4674-ea71-db46f6a8ff7c"
      },
      "source": [
        "#fr\n",
        "corp_text_fr=load_text_corpus(\"/content/drive/MyDrive/ACTER-master/fr/corp/annotated/\") # load text\n",
        "corp_s_list=preprocess(corp_text_fr)                                                # preprocess\n",
        "train_data_corp_fr=create_training_data(corp_s_list, df_corp_terms_fr, 6)           # create training data\n",
        "\n",
        "wind_text_fr=load_text_corpus(\"/content/drive/MyDrive/ACTER-master/fr/wind/annotated/\") # load text\n",
        "wind_s_list=preprocess(wind_text_fr)                                                # preprocess\n",
        "train_data_wind_fr=create_training_data(wind_s_list, df_wind_terms_fr, 6)           # create training data\n",
        "\n",
        "equi_text_fr=load_text_corpus(\"/content/drive/MyDrive/ACTER-master/fr/equi/annotated/\") # load text\n",
        "equi_s_list=preprocess(equi_text_fr)                                                # preprocess\n",
        "train_data_equi_fr=create_training_data(equi_s_list, df_equi_terms_fr, 6)           # create training data\n",
        "\n",
        "htfl_text_fr=load_text_corpus(\"/content/drive/MyDrive/ACTER-master/fr/htfl/annotated/\") # load text\n",
        "htfl_s_list=preprocess(htfl_text_fr)                                                # preprocess\n",
        "train_data_htfl_fr=create_training_data(htfl_s_list, df_htfl_terms_fr, 6)           # create training data "
      ],
      "execution_count": null,
      "outputs": [
        {
          "output_type": "stream",
          "name": "stdout",
          "text": [
            "['/content/drive/MyDrive/ACTER-master/fr/corp/annotated/']\n",
            "0\n",
            "0\n",
            "['/content/drive/MyDrive/ACTER-master/fr/wind/annotated/']\n",
            "0\n",
            "0\n",
            "['/content/drive/MyDrive/ACTER-master/fr/equi/annotated/']\n",
            "0\n",
            "0\n",
            "['/content/drive/MyDrive/ACTER-master/fr/htfl/annotated/']\n",
            "0\n",
            "0\n"
          ]
        }
      ]
    },
    {
      "cell_type": "code",
      "metadata": {
        "id": "z2PI4ngj2gKZ",
        "colab": {
          "base_uri": "https://localhost:8080/"
        },
        "outputId": "b9890e83-f717-4ee5-dcae-36e1fc13219f"
      },
      "source": [
        "#nl\n",
        "corp_text_nl=load_text_corpus(\"/content/drive/MyDrive/ACTER-master/nl/corp/annotated/\") # load text\n",
        "corp_s_list=preprocess(corp_text_nl)                                                # preprocess\n",
        "train_data_corp_nl=create_training_data(corp_s_list, df_corp_terms_nl, 6)           # create training data\n",
        "\n",
        "wind_text_nl=load_text_corpus(\"/content/drive/MyDrive/ACTER-master/nl/wind/annotated/\") # load text\n",
        "wind_s_list=preprocess(wind_text_nl)                                                # preprocess\n",
        "train_data_wind_nl=create_training_data(wind_s_list, df_wind_terms_nl, 6)           # create training data\n",
        "\n",
        "equi_text_nl=load_text_corpus(\"/content/drive/MyDrive/ACTER-master/nl/equi/annotated/\") # load text\n",
        "equi_s_list=preprocess(equi_text_nl)                                                # preprocess\n",
        "train_data_equi_nl=create_training_data(equi_s_list, df_equi_terms_nl, 6)           # create training data\n",
        "\n",
        "htfl_text_nl=load_text_corpus(\"/content/drive/MyDrive/ACTER-master/nl/htfl/annotated/\") # load text\n",
        "htfl_s_list=preprocess(htfl_text_nl)                                                # preprocess\n",
        "train_data_htfl_nl=create_training_data(htfl_s_list, df_htfl_terms_nl, 6)           # create training data "
      ],
      "execution_count": null,
      "outputs": [
        {
          "output_type": "stream",
          "name": "stdout",
          "text": [
            "['/content/drive/MyDrive/ACTER-master/nl/corp/annotated/']\n",
            "0\n",
            "0\n",
            "['/content/drive/MyDrive/ACTER-master/nl/wind/annotated/']\n",
            "0\n",
            "0\n",
            "['/content/drive/MyDrive/ACTER-master/nl/equi/annotated/']\n",
            "0\n",
            "0\n",
            "['/content/drive/MyDrive/ACTER-master/nl/htfl/annotated/']\n",
            "0\n",
            "0\n"
          ]
        }
      ]
    },
    {
      "cell_type": "code",
      "metadata": {
        "colab": {
          "base_uri": "https://localhost:8080/"
        },
        "id": "GXrT0L_DNCE_",
        "outputId": "44aa8c34-e232-4caf-ef9b-7a4a3a876f8a"
      },
      "source": [
        "print(train_data_corp_en.groupby('Label').count())\n",
        "print(train_data_wind_en.groupby('Label').count())\n",
        "#print(train_data_equi_en.groupby('Label').count())\n",
        "#print(train_data_htfl_en.groupby('Label').count())"
      ],
      "execution_count": null,
      "outputs": [
        {
          "output_type": "stream",
          "name": "stdout",
          "text": [
            "       n_gram  Context  Termtype\n",
            "Label                           \n",
            "0      274152   274152    274152\n",
            "1        8710     8710      8710\n",
            "       n_gram  Context  Termtype\n",
            "Label                           \n",
            "0      310999   310999    310999\n",
            "1       10544    10544     10544\n"
          ]
        }
      ]
    },
    {
      "cell_type": "code",
      "metadata": {
        "colab": {
          "base_uri": "https://localhost:8080/",
          "height": 424
        },
        "id": "S4_Q9krEESA2",
        "outputId": "4525fb83-78c1-4b28-fe01-220d216bbfe5"
      },
      "source": [
        "train_data_wind_en"
      ],
      "execution_count": null,
      "outputs": [
        {
          "output_type": "execute_result",
          "data": {
            "text/plain": [
              "                                              n_gram  \\\n",
              "0                                     COMPUTER-AIDED   \n",
              "1                                             DESIGN   \n",
              "2                                                 OF   \n",
              "3                                    HORIZONTAL-AXIS   \n",
              "4                                               WIND   \n",
              "...                                              ...   \n",
              "321538                           2002-09-10 page 9 /   \n",
              "321539                                    page 9 / 9   \n",
              "321540    D-80.1-GP.SD.03-A-A-GB 2002-09-10 page 9 /   \n",
              "321541                         2002-09-10 page 9 / 9   \n",
              "321542  D-80.1-GP.SD.03-A-A-GB 2002-09-10 page 9 / 9   \n",
              "\n",
              "                                                  Context Label Termtype  \n",
              "0       COMPUTER-AIDED DESIGN OF HORIZONTAL-AXIS WIND ...     0     None  \n",
              "1       COMPUTER-AIDED DESIGN OF HORIZONTAL-AXIS WIND ...     0     None  \n",
              "2       COMPUTER-AIDED DESIGN OF HORIZONTAL-AXIS WIND ...     0     None  \n",
              "3       COMPUTER-AIDED DESIGN OF HORIZONTAL-AXIS WIND ...     0     None  \n",
              "4       COMPUTER-AIDED DESIGN OF HORIZONTAL-AXIS WIND ...     1        /  \n",
              "...                                                   ...   ...      ...  \n",
              "321538   D-80.1-GP.SD.03-A-A-GB\\n\\n2002-09-10\\n\\npage 9/9     0     None  \n",
              "321539   D-80.1-GP.SD.03-A-A-GB\\n\\n2002-09-10\\n\\npage 9/9     0     None  \n",
              "321540   D-80.1-GP.SD.03-A-A-GB\\n\\n2002-09-10\\n\\npage 9/9     0     None  \n",
              "321541   D-80.1-GP.SD.03-A-A-GB\\n\\n2002-09-10\\n\\npage 9/9     0     None  \n",
              "321542   D-80.1-GP.SD.03-A-A-GB\\n\\n2002-09-10\\n\\npage 9/9     0     None  \n",
              "\n",
              "[321543 rows x 4 columns]"
            ],
            "text/html": [
              "\n",
              "  <div id=\"df-33aaf13a-1143-47ab-ace4-20569059dcec\">\n",
              "    <div class=\"colab-df-container\">\n",
              "      <div>\n",
              "<style scoped>\n",
              "    .dataframe tbody tr th:only-of-type {\n",
              "        vertical-align: middle;\n",
              "    }\n",
              "\n",
              "    .dataframe tbody tr th {\n",
              "        vertical-align: top;\n",
              "    }\n",
              "\n",
              "    .dataframe thead th {\n",
              "        text-align: right;\n",
              "    }\n",
              "</style>\n",
              "<table border=\"1\" class=\"dataframe\">\n",
              "  <thead>\n",
              "    <tr style=\"text-align: right;\">\n",
              "      <th></th>\n",
              "      <th>n_gram</th>\n",
              "      <th>Context</th>\n",
              "      <th>Label</th>\n",
              "      <th>Termtype</th>\n",
              "    </tr>\n",
              "  </thead>\n",
              "  <tbody>\n",
              "    <tr>\n",
              "      <th>0</th>\n",
              "      <td>COMPUTER-AIDED</td>\n",
              "      <td>COMPUTER-AIDED DESIGN OF HORIZONTAL-AXIS WIND ...</td>\n",
              "      <td>0</td>\n",
              "      <td>None</td>\n",
              "    </tr>\n",
              "    <tr>\n",
              "      <th>1</th>\n",
              "      <td>DESIGN</td>\n",
              "      <td>COMPUTER-AIDED DESIGN OF HORIZONTAL-AXIS WIND ...</td>\n",
              "      <td>0</td>\n",
              "      <td>None</td>\n",
              "    </tr>\n",
              "    <tr>\n",
              "      <th>2</th>\n",
              "      <td>OF</td>\n",
              "      <td>COMPUTER-AIDED DESIGN OF HORIZONTAL-AXIS WIND ...</td>\n",
              "      <td>0</td>\n",
              "      <td>None</td>\n",
              "    </tr>\n",
              "    <tr>\n",
              "      <th>3</th>\n",
              "      <td>HORIZONTAL-AXIS</td>\n",
              "      <td>COMPUTER-AIDED DESIGN OF HORIZONTAL-AXIS WIND ...</td>\n",
              "      <td>0</td>\n",
              "      <td>None</td>\n",
              "    </tr>\n",
              "    <tr>\n",
              "      <th>4</th>\n",
              "      <td>WIND</td>\n",
              "      <td>COMPUTER-AIDED DESIGN OF HORIZONTAL-AXIS WIND ...</td>\n",
              "      <td>1</td>\n",
              "      <td>/</td>\n",
              "    </tr>\n",
              "    <tr>\n",
              "      <th>...</th>\n",
              "      <td>...</td>\n",
              "      <td>...</td>\n",
              "      <td>...</td>\n",
              "      <td>...</td>\n",
              "    </tr>\n",
              "    <tr>\n",
              "      <th>321538</th>\n",
              "      <td>2002-09-10 page 9 /</td>\n",
              "      <td>D-80.1-GP.SD.03-A-A-GB\\n\\n2002-09-10\\n\\npage 9/9</td>\n",
              "      <td>0</td>\n",
              "      <td>None</td>\n",
              "    </tr>\n",
              "    <tr>\n",
              "      <th>321539</th>\n",
              "      <td>page 9 / 9</td>\n",
              "      <td>D-80.1-GP.SD.03-A-A-GB\\n\\n2002-09-10\\n\\npage 9/9</td>\n",
              "      <td>0</td>\n",
              "      <td>None</td>\n",
              "    </tr>\n",
              "    <tr>\n",
              "      <th>321540</th>\n",
              "      <td>D-80.1-GP.SD.03-A-A-GB 2002-09-10 page 9 /</td>\n",
              "      <td>D-80.1-GP.SD.03-A-A-GB\\n\\n2002-09-10\\n\\npage 9/9</td>\n",
              "      <td>0</td>\n",
              "      <td>None</td>\n",
              "    </tr>\n",
              "    <tr>\n",
              "      <th>321541</th>\n",
              "      <td>2002-09-10 page 9 / 9</td>\n",
              "      <td>D-80.1-GP.SD.03-A-A-GB\\n\\n2002-09-10\\n\\npage 9/9</td>\n",
              "      <td>0</td>\n",
              "      <td>None</td>\n",
              "    </tr>\n",
              "    <tr>\n",
              "      <th>321542</th>\n",
              "      <td>D-80.1-GP.SD.03-A-A-GB 2002-09-10 page 9 / 9</td>\n",
              "      <td>D-80.1-GP.SD.03-A-A-GB\\n\\n2002-09-10\\n\\npage 9/9</td>\n",
              "      <td>0</td>\n",
              "      <td>None</td>\n",
              "    </tr>\n",
              "  </tbody>\n",
              "</table>\n",
              "<p>321543 rows × 4 columns</p>\n",
              "</div>\n",
              "      <button class=\"colab-df-convert\" onclick=\"convertToInteractive('df-33aaf13a-1143-47ab-ace4-20569059dcec')\"\n",
              "              title=\"Convert this dataframe to an interactive table.\"\n",
              "              style=\"display:none;\">\n",
              "        \n",
              "  <svg xmlns=\"http://www.w3.org/2000/svg\" height=\"24px\"viewBox=\"0 0 24 24\"\n",
              "       width=\"24px\">\n",
              "    <path d=\"M0 0h24v24H0V0z\" fill=\"none\"/>\n",
              "    <path d=\"M18.56 5.44l.94 2.06.94-2.06 2.06-.94-2.06-.94-.94-2.06-.94 2.06-2.06.94zm-11 1L8.5 8.5l.94-2.06 2.06-.94-2.06-.94L8.5 2.5l-.94 2.06-2.06.94zm10 10l.94 2.06.94-2.06 2.06-.94-2.06-.94-.94-2.06-.94 2.06-2.06.94z\"/><path d=\"M17.41 7.96l-1.37-1.37c-.4-.4-.92-.59-1.43-.59-.52 0-1.04.2-1.43.59L10.3 9.45l-7.72 7.72c-.78.78-.78 2.05 0 2.83L4 21.41c.39.39.9.59 1.41.59.51 0 1.02-.2 1.41-.59l7.78-7.78 2.81-2.81c.8-.78.8-2.07 0-2.86zM5.41 20L4 18.59l7.72-7.72 1.47 1.35L5.41 20z\"/>\n",
              "  </svg>\n",
              "      </button>\n",
              "      \n",
              "  <style>\n",
              "    .colab-df-container {\n",
              "      display:flex;\n",
              "      flex-wrap:wrap;\n",
              "      gap: 12px;\n",
              "    }\n",
              "\n",
              "    .colab-df-convert {\n",
              "      background-color: #E8F0FE;\n",
              "      border: none;\n",
              "      border-radius: 50%;\n",
              "      cursor: pointer;\n",
              "      display: none;\n",
              "      fill: #1967D2;\n",
              "      height: 32px;\n",
              "      padding: 0 0 0 0;\n",
              "      width: 32px;\n",
              "    }\n",
              "\n",
              "    .colab-df-convert:hover {\n",
              "      background-color: #E2EBFA;\n",
              "      box-shadow: 0px 1px 2px rgba(60, 64, 67, 0.3), 0px 1px 3px 1px rgba(60, 64, 67, 0.15);\n",
              "      fill: #174EA6;\n",
              "    }\n",
              "\n",
              "    [theme=dark] .colab-df-convert {\n",
              "      background-color: #3B4455;\n",
              "      fill: #D2E3FC;\n",
              "    }\n",
              "\n",
              "    [theme=dark] .colab-df-convert:hover {\n",
              "      background-color: #434B5C;\n",
              "      box-shadow: 0px 1px 3px 1px rgba(0, 0, 0, 0.15);\n",
              "      filter: drop-shadow(0px 1px 2px rgba(0, 0, 0, 0.3));\n",
              "      fill: #FFFFFF;\n",
              "    }\n",
              "  </style>\n",
              "\n",
              "      <script>\n",
              "        const buttonEl =\n",
              "          document.querySelector('#df-33aaf13a-1143-47ab-ace4-20569059dcec button.colab-df-convert');\n",
              "        buttonEl.style.display =\n",
              "          google.colab.kernel.accessAllowed ? 'block' : 'none';\n",
              "\n",
              "        async function convertToInteractive(key) {\n",
              "          const element = document.querySelector('#df-33aaf13a-1143-47ab-ace4-20569059dcec');\n",
              "          const dataTable =\n",
              "            await google.colab.kernel.invokeFunction('convertToInteractive',\n",
              "                                                     [key], {});\n",
              "          if (!dataTable) return;\n",
              "\n",
              "          const docLinkHtml = 'Like what you see? Visit the ' +\n",
              "            '<a target=\"_blank\" href=https://colab.research.google.com/notebooks/data_table.ipynb>data table notebook</a>'\n",
              "            + ' to learn more about interactive tables.';\n",
              "          element.innerHTML = '';\n",
              "          dataTable['output_type'] = 'display_data';\n",
              "          await google.colab.output.renderOutput(dataTable, element);\n",
              "          const docLink = document.createElement('div');\n",
              "          docLink.innerHTML = docLinkHtml;\n",
              "          element.appendChild(docLink);\n",
              "        }\n",
              "      </script>\n",
              "    </div>\n",
              "  </div>\n",
              "  "
            ]
          },
          "metadata": {},
          "execution_count": 12
        }
      ]
    },
    {
      "cell_type": "markdown",
      "metadata": {
        "id": "WRYG7Q_sDnNw"
      },
      "source": [
        "**Undersample**"
      ]
    },
    {
      "cell_type": "code",
      "metadata": {
        "id": "qvHscNxQCmvJ"
      },
      "source": [
        "#undersample class 0 so the amount of trainingsample is the same as label 1 \n",
        "\n",
        "def undersample(train_data):\n",
        "# Class count\n",
        "  print(\"Before\")\n",
        "  print(train_data.Label.value_counts())\n",
        "  count_class_0, count_class_1 = train_data.Label.value_counts()\n",
        "\n",
        "  # Divide by class\n",
        "  df_class_0 = train_data[train_data['Label'] == 0]\n",
        "  df_class_1 = train_data[train_data['Label'] == 1]\n",
        "\n",
        "  df_class_0_under = df_class_0.sample(count_class_1)\n",
        "  df_test_under = pd.concat([df_class_0_under, df_class_1], axis=0)\n",
        "\n",
        "  print(\"After\")\n",
        "  print(df_test_under.Label.value_counts())\n",
        "\n",
        "  return df_test_under"
      ],
      "execution_count": null,
      "outputs": []
    },
    {
      "cell_type": "code",
      "metadata": {
        "colab": {
          "base_uri": "https://localhost:8080/"
        },
        "id": "-wi80YrXFHj4",
        "outputId": "362261cd-2748-456d-bf5b-dbcdb8c67819"
      },
      "source": [
        "# undersample the trainingsdata\n",
        "\n",
        "#en\n",
        "train_data_corp_en=undersample(train_data_corp_en)\n",
        "\n",
        "train_data_wind_en=undersample(train_data_wind_en)\n",
        "\n",
        "\n",
        "#fr\n",
        "#train_data_corp_fr=undersample(train_data_corp_fr)\n",
        "\n",
        "#train_data_wind_fr=undersample(train_data_wind_fr)\n",
        "\n",
        "\n",
        "#nl\n",
        "#train_data_corp_nl=undersample(train_data_corp_nl)\n",
        "\n",
        "#train_data_wind_nl=undersample(train_data_wind_nl)"
      ],
      "execution_count": null,
      "outputs": [
        {
          "output_type": "stream",
          "name": "stdout",
          "text": [
            "Before\n",
            "0    274152\n",
            "1      8710\n",
            "Name: Label, dtype: int64\n",
            "After\n",
            "0    8710\n",
            "1    8710\n",
            "Name: Label, dtype: int64\n",
            "Before\n",
            "0    310999\n",
            "1     10544\n",
            "Name: Label, dtype: int64\n",
            "After\n",
            "0    10544\n",
            "1    10544\n",
            "Name: Label, dtype: int64\n"
          ]
        }
      ]
    },
    {
      "cell_type": "code",
      "metadata": {
        "colab": {
          "base_uri": "https://localhost:8080/"
        },
        "id": "VSy8hZggPQpf",
        "outputId": "9f36055a-7794-4ed5-a5df-8bab890db23a"
      },
      "source": [
        "#concat trainingsdata\n",
        "trainings_data_df = train_data_corp_en\n",
        "\n",
        "valid_data_df = train_data_wind_en #pd.concat([train_data_equi_en, train_data_equi_fr, train_data_equi_nl ])\n",
        "\n",
        "test_data_df_en = train_data_wind_en\n",
        "#test_data_df_fr = train_data_htfl_fr\n",
        "#test_data_df_nl = train_data_htfl_nl\n",
        "\n",
        "print(len(trainings_data_df))\n",
        "print(len(valid_data_df))\n",
        "print(len(test_data_df_en))\n",
        "#print(len(test_data_df_fr))\n",
        "#print(len(test_data_df_nl))"
      ],
      "execution_count": null,
      "outputs": [
        {
          "output_type": "stream",
          "name": "stdout",
          "text": [
            "17420\n",
            "21088\n",
            "21088\n"
          ]
        }
      ]
    },
    {
      "cell_type": "markdown",
      "metadata": {
        "id": "jKtVpCjIWPvO"
      },
      "source": [
        "**Tokenizer**"
      ]
    },
    {
      "cell_type": "code",
      "metadata": {
        "colab": {
          "base_uri": "https://localhost:8080/",
          "height": 81,
          "referenced_widgets": [
            "3ac4a2961ebf44468f7f94e8cf20822c",
            "a8d373d847974611a206142121ed6502",
            "b0eab98841c343539498087a3ee36520",
            "559a3630a6fe44b6ad306bab0d6ae7d7",
            "816a21c4171144548b2907dc5b32a81a",
            "58e2bf26d8404c15bb93ccbc56ca5f2d",
            "ba2b89f62df24c8c8e84cec5594bce67",
            "7db2a343ee4f48c7ba8d93f55fc9e70a",
            "414c44fb55b8405fa3c541e910dc7b5b",
            "501806f654dc4c4dbf9804c16d522b46",
            "368f75738bb84e5cba60ce5e988283bd",
            "142bed2beded45f48b8f2115ef3413bc",
            "e765268337c24805b417cdb2b422dfa4",
            "9b520282c4044d26971e586f773a019f",
            "2460df041d64463c965009bfb1f3b62e",
            "8cf5a73dccad427c8566e6e60b3e348a",
            "ca0d5df3d0f0455fa37f9c74b4dc8b73",
            "88f1e3a171e247fca80d86ca8001a905",
            "346d2e2bb8514d0f93c83dba8ecfe5f2",
            "fe3c6d59c0b64235b434eabff3e171e9",
            "36b79c56c5cf4f78b056ca681172f8e1",
            "5b38d6b2ae2e487a94d171d587abe6db"
          ]
        },
        "id": "pJjnroUuWOdg",
        "outputId": "36691bb0-47dc-4698-a28f-2dcf4474e362"
      },
      "source": [
        "xlmr_tokenizer = XLMRobertaTokenizer.from_pretrained(\"xlm-roberta-base\")"
      ],
      "execution_count": null,
      "outputs": [
        {
          "output_type": "display_data",
          "data": {
            "text/plain": [
              "Downloading:   0%|          | 0.00/5.07M [00:00<?, ?B/s]"
            ],
            "application/vnd.jupyter.widget-view+json": {
              "version_major": 2,
              "version_minor": 0,
              "model_id": "3ac4a2961ebf44468f7f94e8cf20822c"
            }
          },
          "metadata": {}
        },
        {
          "output_type": "display_data",
          "data": {
            "text/plain": [
              "Downloading:   0%|          | 0.00/615 [00:00<?, ?B/s]"
            ],
            "application/vnd.jupyter.widget-view+json": {
              "version_major": 2,
              "version_minor": 0,
              "model_id": "142bed2beded45f48b8f2115ef3413bc"
            }
          },
          "metadata": {}
        }
      ]
    },
    {
      "cell_type": "code",
      "metadata": {
        "id": "9v7WbIW6WV8D"
      },
      "source": [
        "def tokenizer_xlm(data, max_len):\n",
        "  labels_ = []\n",
        "  input_ids_ = []\n",
        "  attn_masks_ = []\n",
        "\n",
        "  # for each datasample:\n",
        "  for index, row in data.iterrows():\n",
        "\n",
        "      sentence = row['n_gram']+\". \"+row[\"Context\"]\n",
        "      #print(sentence)\n",
        "     \n",
        "      # create requiered input, i.e. ids and attention masks\n",
        "      encoded_dict = xlmr_tokenizer.encode_plus(sentence,\n",
        "                                                max_length=max_len, \n",
        "                                                padding='max_length',\n",
        "                                                truncation=True, \n",
        "                                                return_tensors='pt')\n",
        "\n",
        "      # add encoded sample to lists\n",
        "      input_ids_.append(encoded_dict['input_ids'])\n",
        "      attn_masks_.append(encoded_dict['attention_mask'])\n",
        "      labels_.append(row['Label'])\n",
        "      \n",
        "  # Convert each Python list of Tensors into a 2D Tensor matrix.\n",
        "  input_ids_ = torch.cat(input_ids_, dim=0)\n",
        "  attn_masks_ = torch.cat(attn_masks_, dim=0)\n",
        "\n",
        "  # labels to tensor\n",
        "  labels_ = torch.tensor(labels_)\n",
        "\n",
        "  print('Encoder finished. {:,} examples.'.format(len(labels_)))\n",
        "  return input_ids_, attn_masks_, labels_"
      ],
      "execution_count": null,
      "outputs": []
    },
    {
      "cell_type": "code",
      "metadata": {
        "colab": {
          "base_uri": "https://localhost:8080/"
        },
        "id": "RcCexBG1ZuP_",
        "outputId": "ffec7f74-f52f-454e-a742-28c61aafc33f"
      },
      "source": [
        "#tokenize input for the different training/test sets\n",
        "max_len=64\n",
        "\n",
        "input_ids_train, attn_masks_train, labels_all_train = tokenizer_xlm(trainings_data_df, max_len)\n",
        "\n",
        "input_ids_valid, attn_masks_valid, labels_all_valid = tokenizer_xlm(valid_data_df, max_len)\n",
        "\n",
        "input_ids_test_en, attn_masks_test_en, labels_test_en = tokenizer_xlm(test_data_df_en, max_len)\n",
        "#input_ids_test_fr, attn_masks_test_fr, labels_test_fr = tokenizer_xlm(test_data_df_fr, max_len)\n",
        "#input_ids_test_nl, attn_masks_test_nl, labels_test_nl = tokenizer_xlm(test_data_df_nl, max_len)"
      ],
      "execution_count": null,
      "outputs": [
        {
          "output_type": "stream",
          "name": "stdout",
          "text": [
            "Encoder finished. 17,420 examples.\n",
            "Encoder finished. 21,088 examples.\n",
            "Encoder finished. 21,088 examples.\n"
          ]
        }
      ]
    },
    {
      "cell_type": "code",
      "metadata": {
        "id": "nLCLiW9-Nkd-"
      },
      "source": [
        "# create datasets\n",
        "train_dataset = TensorDataset(input_ids_train, attn_masks_train, labels_all_train)\n",
        "\n",
        "valid_dataset = TensorDataset(input_ids_valid, attn_masks_valid, labels_all_valid)\n",
        "\n",
        "test_dataset_en = TensorDataset(input_ids_test_en, attn_masks_test_en, labels_test_en)\n",
        "#test_dataset_fr = TensorDataset(input_ids_test_fr, attn_masks_test_fr, labels_test_fr)\n",
        "#test_dataset_nl = TensorDataset(input_ids_test_nl, attn_masks_test_nl, labels_test_nl)"
      ],
      "execution_count": null,
      "outputs": []
    },
    {
      "cell_type": "code",
      "metadata": {
        "id": "Si-ng4T8Ny2O"
      },
      "source": [
        "# create dataloaders\n",
        "batch_size = 32\n",
        "\n",
        "train_dataloader = DataLoader(train_dataset, sampler = RandomSampler(train_dataset), batch_size = batch_size) #random sampling\n",
        "valid_dataloader = DataLoader(valid_dataset, sampler = SequentialSampler(valid_dataset),batch_size = batch_size ) #sequential sampling\n",
        "\n",
        "test_dataloader_en = DataLoader(test_dataset_en, sampler = SequentialSampler(test_dataset_en),batch_size = batch_size ) #sequential sampling\n",
        "#test_dataloader_fr = DataLoader(test_dataset_fr, sampler = SequentialSampler(test_dataset_fr),batch_size = batch_size ) #sequential sampling\n",
        "#test_dataloader_nl = DataLoader(test_dataset_nl, sampler = SequentialSampler(test_dataset_nl),batch_size = batch_size ) #sequential sampling"
      ],
      "execution_count": null,
      "outputs": []
    },
    {
      "cell_type": "markdown",
      "metadata": {
        "id": "Hart2Y_ia5qD"
      },
      "source": [
        "#Model"
      ]
    },
    {
      "cell_type": "code",
      "metadata": {
        "id": "sF72Sc2ur-ds"
      },
      "source": [
        "def create_model(lr, eps, train_dataloader, epochs, device):\n",
        "  xlmr_model = XLMRobertaForSequenceClassification.from_pretrained(\"xlm-roberta-base\", num_labels=2)\n",
        "  desc = xlmr_model.to(device)\n",
        "  print('Connected to GPU:', torch.cuda.get_device_name(0))\n",
        "  optimizer = AdamW(xlmr_model.parameters(),\n",
        "                  lr = lr,   \n",
        "                  eps = eps       \n",
        "                )\n",
        "  total_steps = len(train_dataloader) * epochs\n",
        "  scheduler = get_linear_schedule_with_warmup(optimizer, \n",
        "                                            num_warmup_steps = 0,   \n",
        "                                            num_training_steps = total_steps)\n",
        "  return xlmr_model, optimizer, scheduler"
      ],
      "execution_count": null,
      "outputs": []
    },
    {
      "cell_type": "code",
      "metadata": {
        "id": "R7acJSCUtHN6"
      },
      "source": [
        "def format_time(elapsed):\n",
        "    '''\n",
        "    Takes a time in seconds and returns a string hh:mm:ss\n",
        "    '''\n",
        "    elapsed_rounded = int(round((elapsed)))\n",
        "    return str(datetime.timedelta(seconds=elapsed_rounded))  "
      ],
      "execution_count": null,
      "outputs": []
    },
    {
      "cell_type": "code",
      "metadata": {
        "id": "YsxS3wVltI5i"
      },
      "source": [
        "def validate(validation_dataloader, validation_df, xlmr_model, verbose, print_cm): \n",
        "  \n",
        "  # put model in evaluation mode \n",
        "  xlmr_model.eval()\n",
        "\n",
        "  #extract terms and compute scores\n",
        "  extracted_terms_wind=extract_terms(train_data_wind_en, xlmr_model)\n",
        "  extracted_terms_wind_en = set([item.lower() for item in extracted_terms_wind])\n",
        "  gold_set_wind_en=set(df_wind_terms_en[\"Term\"])\n",
        "  true_pos=extracted_terms_wind_en.intersection(gold_set_wind_en)\n",
        "  recall=len(true_pos)/len(gold_set_wind_en)\n",
        "  precision=len(true_pos)/len(extracted_terms_wind_en)\n",
        "  f1=2*(precision*recall)/(precision+recall)\n",
        "\n",
        "  return recall, precision, f1"
      ],
      "execution_count": null,
      "outputs": []
    },
    {
      "cell_type": "code",
      "metadata": {
        "id": "UYBNMpiszm_h"
      },
      "source": [
        "def extract_terms(validation_df, xlmr_model): \n",
        "  print(len(validation_df))\n",
        "  term_list=[]\n",
        "\n",
        "  # put model in evaluation mode \n",
        "  xlmr_model.eval()\n",
        "\n",
        "  for index, row in validation_df.iterrows():\n",
        "    sentence = row['n_gram']+\". \"+row[\"Context\"]\n",
        "    label=validation_df[\"Label\"]\n",
        "\n",
        "    encoded_dict = xlmr_tokenizer.encode_plus(sentence, \n",
        "                                                  max_length=max_len, \n",
        "                                                  padding='max_length',\n",
        "                                                  truncation=True, \n",
        "                                                  return_tensors='pt') \n",
        "    input_id=encoded_dict['input_ids'].to(device)\n",
        "    attn_mask=encoded_dict['attention_mask'].to(device)\n",
        "    label=torch.tensor(0).to(device)    \n",
        "\n",
        "    with torch.no_grad():                \n",
        "      output = xlmr_model(input_id, \n",
        "                                      token_type_ids=None, \n",
        "                                      attention_mask=attn_mask,\n",
        "                                      labels=label)\n",
        "      loss=output.loss\n",
        "      logits=output.logits\n",
        "      \n",
        "    logits = logits.detach().cpu().numpy()\n",
        "    pred=labels[logits[0].argmax(axis=0)]\n",
        "    if pred==\"Term\":\n",
        "      term_list.append(row['n_gram'])\n",
        "\n",
        "  return set(term_list)\n",
        "      "
      ],
      "execution_count": null,
      "outputs": []
    },
    {
      "cell_type": "code",
      "metadata": {
        "id": "zs7cOPFJtLUG"
      },
      "source": [
        "def train_model(epochs, xlmr_model, train_dataloader, validation_dataloader, validation_df, random_seed, verbose, optimizer, scheduler):\n",
        "\n",
        "  seed_val = random_seed\n",
        "\n",
        "  random.seed(seed_val)\n",
        "  np.random.seed(seed_val)\n",
        "  torch.manual_seed(seed_val)\n",
        "  torch.cuda.manual_seed_all(seed_val)\n",
        "\n",
        "  # mostly contains scores about how the training went for each epoch\n",
        "  training_stats = []\n",
        "\n",
        "  # total training time\n",
        "  total_t0 = time.time()\n",
        "\n",
        "  print('\\033[1m'+\"================ Model Training ================\"+'\\033[0m')\n",
        "\n",
        "  # For each epoch...\n",
        "  for epoch_i in range(0, epochs):\n",
        "\n",
        "      print(\"\")\n",
        "      print('\\033[1m'+'======== Epoch {:} / {:} ========'.format(epoch_i + 1, epochs)+'\\033[0m')\n",
        "\n",
        "      t0 = time.time()\n",
        "\n",
        "      # summed training loss of the epoch\n",
        "      total_train_loss = 0\n",
        "\n",
        "\n",
        "      # model is being put into training mode as mechanisms like dropout work differently during train and test time\n",
        "      xlmr_model.train()\n",
        "\n",
        "      # iterrate over batches\n",
        "      for step, batch in enumerate(train_dataloader):\n",
        "\n",
        "          # unpack training batch at load it to gpu (device)  \n",
        "          b_input_ids = batch[0].to(device)\n",
        "          b_input_mask = batch[1].to(device)\n",
        "          b_labels = batch[2].to(device)\n",
        "\n",
        "          # clear gradients before calculating new ones\n",
        "          xlmr_model.zero_grad()        \n",
        "\n",
        "          # forward pass with current batch\n",
        "          output = xlmr_model(b_input_ids, \n",
        "                              token_type_ids=None, \n",
        "                              attention_mask=b_input_mask, \n",
        "                              labels=b_labels)\n",
        "          \n",
        "          loss=output.loss\n",
        "          logits=output.logits\n",
        "\n",
        "          # add up the loss\n",
        "          total_train_loss += loss.item()\n",
        "\n",
        "          # calculate new gradients\n",
        "          loss.backward()\n",
        "\n",
        "          # gradient clipping (not bigger than)\n",
        "          torch.nn.utils.clip_grad_norm_(xlmr_model.parameters(), 1.0)\n",
        "\n",
        "          # Update the networks weights based on the gradient as well as the optimiziers parameters\n",
        "          optimizer.step()\n",
        "\n",
        "          # lr update\n",
        "          scheduler.step()\n",
        "\n",
        "      # avg loss over all batches\n",
        "      avg_train_loss = total_train_loss / len(train_dataloader)            \n",
        "      \n",
        "      # training time of this epoch\n",
        "      training_time = format_time(time.time() - t0)\n",
        "\n",
        "      print(\"\")\n",
        "      print(\"  Average training loss: {0:.2f}\".format(avg_train_loss))\n",
        "      print(\"  Training epoch took: {:}\".format(training_time))\n",
        "          \n",
        "  \n",
        "      # VALIDATION\n",
        "      print(\"evaluate\")\n",
        "      if epoch_i==epochs-1:print_cm=True #Print out cm in final iteration\n",
        "      else: print_cm=False\n",
        "      recall, precision, f1 = validate(validation_dataloader, validation_df, xlmr_model, verbose, print_cm)   \n",
        "       \n",
        "\n",
        "      #print('\\033[1m'+ \"  Validation Loss All: {0:.2f}\".format(avg_val_loss) + '\\033[0m')\n",
        "\n",
        "      training_stats.append(\n",
        "          {\n",
        "              'epoch': epoch_i + 1,\n",
        "              'Training Loss': avg_train_loss,\n",
        "              \"precision\": precision,\n",
        "              \"recall\": recall,\n",
        "              \"f1\": f1,\n",
        "              'Training Time': training_time,\n",
        "          }\n",
        "      )\n",
        "\n",
        "      print(\"Precicion\", precision)\n",
        "      print(\"Recall\", recall)\n",
        "      print(\"F1\", f1)\n",
        "\n",
        "  print(\"\\n\\nTraining complete!\")\n",
        "  print(\"Total training took {:} (h:mm:ss)\".format(format_time(time.time()-total_t0)))\n",
        "  \n",
        "  return training_stats\n"
      ],
      "execution_count": null,
      "outputs": []
    },
    {
      "cell_type": "code",
      "metadata": {
        "id": "V1VTPA1anQ2w",
        "colab": {
          "base_uri": "https://localhost:8080/",
          "height": 208,
          "referenced_widgets": [
            "06509d2afbfb4e3197aafeae364c378f",
            "a0a7493a866a4570967c40520017b18e",
            "e2c62613c53d4010884aa588cb33623a",
            "71bf961938dd45149644c21884fa6661",
            "eea8bdfd43a041d38be762d438e53a51",
            "aa107f99d1234422b9fd67c5bfd0e114",
            "7d75140b927a4e4abb8d8734e7ed4d3a",
            "34c70650154241169665d8f88b666f4e",
            "7d4f077a4c8f418a8dcffa9ac472def2",
            "e6f3d9fce59f4352b2b9161a508901d8",
            "4d4be75af05d45129ba0e33c9772576b"
          ]
        },
        "outputId": "ab1bf443-643b-48e2-a5b7-4e8394bb58dc"
      },
      "source": [
        "lr=2e-5\n",
        "eps=1e-8\n",
        "epochs=3\n",
        "device = torch.device('cuda')\n",
        "xlmr_model, optimizer, scheduler = create_model(lr=lr, eps=eps, train_dataloader=train_dataloader, epochs=epochs, device=device)"
      ],
      "execution_count": null,
      "outputs": [
        {
          "output_type": "display_data",
          "data": {
            "text/plain": [
              "Downloading:   0%|          | 0.00/1.12G [00:00<?, ?B/s]"
            ],
            "application/vnd.jupyter.widget-view+json": {
              "version_major": 2,
              "version_minor": 0,
              "model_id": "06509d2afbfb4e3197aafeae364c378f"
            }
          },
          "metadata": {}
        },
        {
          "output_type": "stream",
          "name": "stderr",
          "text": [
            "Some weights of the model checkpoint at xlm-roberta-base were not used when initializing XLMRobertaForSequenceClassification: ['roberta.pooler.dense.weight', 'lm_head.dense.bias', 'lm_head.decoder.weight', 'lm_head.bias', 'lm_head.layer_norm.bias', 'lm_head.dense.weight', 'lm_head.layer_norm.weight', 'roberta.pooler.dense.bias']\n",
            "- This IS expected if you are initializing XLMRobertaForSequenceClassification from the checkpoint of a model trained on another task or with another architecture (e.g. initializing a BertForSequenceClassification model from a BertForPreTraining model).\n",
            "- This IS NOT expected if you are initializing XLMRobertaForSequenceClassification from the checkpoint of a model that you expect to be exactly identical (initializing a BertForSequenceClassification model from a BertForSequenceClassification model).\n",
            "Some weights of XLMRobertaForSequenceClassification were not initialized from the model checkpoint at xlm-roberta-base and are newly initialized: ['classifier.out_proj.bias', 'classifier.out_proj.weight', 'classifier.dense.bias', 'classifier.dense.weight']\n",
            "You should probably TRAIN this model on a down-stream task to be able to use it for predictions and inference.\n"
          ]
        },
        {
          "output_type": "stream",
          "name": "stdout",
          "text": [
            "Connected to GPU: Tesla T4\n"
          ]
        },
        {
          "output_type": "stream",
          "name": "stderr",
          "text": [
            "/usr/local/lib/python3.8/dist-packages/transformers/optimization.py:306: FutureWarning: This implementation of AdamW is deprecated and will be removed in a future version. Use the PyTorch implementation torch.optim.AdamW instead, or set `no_deprecation_warning=True` to disable this warning\n",
            "  warnings.warn(\n"
          ]
        }
      ]
    },
    {
      "cell_type": "code",
      "metadata": {
        "id": "56767talsn4M",
        "colab": {
          "base_uri": "https://localhost:8080/"
        },
        "outputId": "320ec269-9a47-445b-c9fd-0cbaf829a86c"
      },
      "source": [
        "training_stats=train_model(epochs=epochs,\n",
        "                           xlmr_model=xlmr_model,\n",
        "                           train_dataloader=train_dataloader,\n",
        "                           validation_dataloader=valid_dataloader,\n",
        "                           validation_df=train_data_wind_en,\n",
        "                           random_seed=42,\n",
        "                           verbose=True,\n",
        "                           optimizer=optimizer,\n",
        "                           scheduler=scheduler)"
      ],
      "execution_count": null,
      "outputs": [
        {
          "output_type": "stream",
          "name": "stdout",
          "text": [
            "\u001b[1m================ Model Training ================\u001b[0m\n",
            "\n",
            "\u001b[1m======== Epoch 1 / 3 ========\u001b[0m\n",
            "\n",
            "  Average training loss: 0.20\n",
            "  Training epoch took: 0:03:45\n",
            "evaluate\n",
            "21088\n",
            "Precicion 0.7523961661341853\n",
            "Recall 0.9229261920313521\n",
            "F1 0.8289821061894984\n",
            "\n",
            "\u001b[1m======== Epoch 2 / 3 ========\u001b[0m\n",
            "\n",
            "  Average training loss: 0.06\n",
            "  Training epoch took: 0:03:46\n",
            "evaluate\n",
            "21088\n",
            "Precicion 0.8682170542635659\n",
            "Recall 0.6583932070542129\n",
            "F1 0.7488855869242199\n",
            "\n",
            "\u001b[1m======== Epoch 3 / 3 ========\u001b[0m\n",
            "\n",
            "  Average training loss: 0.03\n",
            "  Training epoch took: 0:03:46\n",
            "evaluate\n",
            "21088\n",
            "Precicion 0.850936329588015\n",
            "Recall 0.7419986936642717\n",
            "F1 0.7927424982554082\n",
            "\n",
            "\n",
            "Training complete!\n",
            "Total training took 0:22:42 (h:mm:ss)\n"
          ]
        }
      ]
    },
    {
      "cell_type": "markdown",
      "metadata": {
        "id": "0-9PbANQp4Uj"
      },
      "source": [
        "# Test Set Evaluation"
      ]
    },
    {
      "cell_type": "code",
      "metadata": {
        "id": "kEniE8WRdjF3",
        "colab": {
          "base_uri": "https://localhost:8080/",
          "height": 200
        },
        "outputId": "38695044-63ff-4709-e1ab-554033f85f19"
      },
      "source": [
        "extracted_terms_wind_en=extract_terms(train_data_wind_en, xlmr_model)\n",
        "#extracted_terms_htfl_fr=extract_terms(train_data_htfl_fr, xlmr_model)\n",
        "#extracted_terms_htfl_nl=extract_terms(train_data_htfl_nl, xlmr_model)"
      ],
      "execution_count": null,
      "outputs": [
        {
          "output_type": "error",
          "ename": "NameError",
          "evalue": "ignored",
          "traceback": [
            "\u001b[0;31m---------------------------------------------------------------------------\u001b[0m",
            "\u001b[0;31mNameError\u001b[0m                                 Traceback (most recent call last)",
            "\u001b[0;32m<ipython-input-1-c017061739ce>\u001b[0m in \u001b[0;36m<module>\u001b[0;34m\u001b[0m\n\u001b[0;32m----> 1\u001b[0;31m \u001b[0mextracted_terms_wind_en\u001b[0m\u001b[0;34m=\u001b[0m\u001b[0mextract_terms\u001b[0m\u001b[0;34m(\u001b[0m\u001b[0mtrain_data_wind_en\u001b[0m\u001b[0;34m,\u001b[0m \u001b[0mxlmr_model\u001b[0m\u001b[0;34m)\u001b[0m\u001b[0;34m\u001b[0m\u001b[0;34m\u001b[0m\u001b[0m\n\u001b[0m\u001b[1;32m      2\u001b[0m \u001b[0;31m#extracted_terms_htfl_fr=extract_terms(train_data_htfl_fr, xlmr_model)\u001b[0m\u001b[0;34m\u001b[0m\u001b[0;34m\u001b[0m\u001b[0;34m\u001b[0m\u001b[0m\n\u001b[1;32m      3\u001b[0m \u001b[0;31m#extracted_terms_htfl_nl=extract_terms(train_data_htfl_nl, xlmr_model)\u001b[0m\u001b[0;34m\u001b[0m\u001b[0;34m\u001b[0m\u001b[0;34m\u001b[0m\u001b[0m\n",
            "\u001b[0;31mNameError\u001b[0m: name 'extract_terms' is not defined"
          ]
        }
      ]
    },
    {
      "cell_type": "code",
      "metadata": {
        "id": "kB_M7qk9xbj5"
      },
      "source": [
        "def computeTermEvalMetrics(extracted_terms, gold_df):\n",
        "  #make lower case cause gold standard is lower case\n",
        "  extracted_terms = set([item.lower() for item in extracted_terms])\n",
        "  gold_set=set(gold_df)\n",
        "  true_pos=extracted_terms.intersection(gold_set)\n",
        "  recall=len(true_pos)/len(gold_set)\n",
        "  precision=len(true_pos)/len(extracted_terms)\n",
        "\n",
        "  print(\"Intersection\",len(true_pos))\n",
        "  print(\"Gold\",len(gold_set))\n",
        "  print(\"Extracted\",len(extracted_terms))\n",
        "  print(\"Recall:\", recall)\n",
        "  print(\"Precision:\", precision)\n",
        "  print(\"F1:\", 2*(precision*recall)/(precision+recall))"
      ],
      "execution_count": null,
      "outputs": []
    },
    {
      "cell_type": "code",
      "metadata": {
        "id": "cABUXjRY1ZHI"
      },
      "source": [
        "computeTermEvalMetrics(extracted_terms_wind_en, df_wind_terms_en[\"Term\"])"
      ],
      "execution_count": null,
      "outputs": []
    },
    {
      "cell_type": "code",
      "metadata": {
        "id": "z1B0JipczW_7"
      },
      "source": [
        "computeTermEvalMetrics(extracted_terms_htfl_fr, df_htfl_terms_fr[\"Term\"])"
      ],
      "execution_count": null,
      "outputs": []
    },
    {
      "cell_type": "code",
      "metadata": {
        "id": "KKTVrV0AzXEt"
      },
      "source": [
        "computeTermEvalMetrics(extracted_terms_htfl_nl, df_htfl_terms_nl[\"Term\"])"
      ],
      "execution_count": null,
      "outputs": []
    }
  ]
}